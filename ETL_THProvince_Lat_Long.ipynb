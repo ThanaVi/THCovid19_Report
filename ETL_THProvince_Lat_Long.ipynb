{
  "nbformat": 4,
  "nbformat_minor": 0,
  "metadata": {
    "colab": {
      "name": "ETL_THProvince_Lat_Long",
      "provenance": [],
      "collapsed_sections": [
        "R-B_7iSwXR2P"
      ],
      "mount_file_id": "1axYcf9lB90o2gogJ_jQgy7SE-0qyxS8h",
      "authorship_tag": "ABX9TyO7i9xpM2jQSKIyqPauZV2V",
      "include_colab_link": true
    },
    "kernelspec": {
      "name": "python3",
      "display_name": "Python 3"
    }
  },
  "cells": [
    {
      "cell_type": "markdown",
      "metadata": {
        "id": "view-in-github",
        "colab_type": "text"
      },
      "source": [
        "<a href=\"https://colab.research.google.com/github/ThanaVi/THCovid19_Report/blob/master/ETL_THProvince_Lat_Long.ipynb\" target=\"_parent\"><img src=\"https://colab.research.google.com/assets/colab-badge.svg\" alt=\"Open In Colab\"/></a>"
      ]
    },
    {
      "cell_type": "markdown",
      "metadata": {
        "id": "7fqVmLvB6UiU",
        "colab_type": "text"
      },
      "source": [
        "#Target \n",
        "เก็บข้อมูล Latitude เเละ Longtitude ของจังหวัดในประเทศไทยในรูปแบบ \"Latitude,Longtitude\" สำหรับใช้ใน Geo Map ของ Google Data studio\n",
        "\n",
        "\n"
      ]
    },
    {
      "cell_type": "markdown",
      "metadata": {
        "id": "R72W_hEKlAkn",
        "colab_type": "text"
      },
      "source": [
        "#Result\n",
        "\n",
        "ข้อมูลจาก Source\n",
        "\n",
        "![alt text](https://drive.google.com/uc?id=1qbFclBv0QOGFOdoABgDEsqpKCWaH75qZ)\n",
        "\n",
        "ข้อมูลที่ได้จาก Transformation\n",
        "\n",
        "![alt text](https://drive.google.com/uc?id=1t3goOwsWC7OAZd4ck8CSkP23I7rqKIZZ)"
      ]
    },
    {
      "cell_type": "markdown",
      "metadata": {
        "id": "R-B_7iSwXR2P",
        "colab_type": "text"
      },
      "source": [
        "#Install Pyspark"
      ]
    },
    {
      "cell_type": "code",
      "metadata": {
        "id": "hsFKfwHAWOE1",
        "colab_type": "code",
        "colab": {}
      },
      "source": [
        "!apt-get install openjdk-8-jdk-headless -qq > /dev/null\n",
        "!wget -q https://downloads.apache.org/spark/spark-2.4.5/spark-2.4.5-bin-hadoop2.7.tgz\n",
        "!tar xzvf spark-2.4.5-bin-hadoop2.7.tgz\n",
        "!pip install -q findspark\n",
        "\n",
        "import os\n",
        "os.environ[\"JAVA_HOME\"] = \"/usr/lib/jvm/java-8-openjdk-amd64\"\n",
        "os.environ[\"SPARK_HOME\"] = \"/content/spark-2.4.5-bin-hadoop2.7\"\n",
        "\n",
        "!pip install pyspark"
      ],
      "execution_count": 0,
      "outputs": []
    },
    {
      "cell_type": "markdown",
      "metadata": {
        "id": "wiP_x2HkaHew",
        "colab_type": "text"
      },
      "source": [
        "# Import library"
      ]
    },
    {
      "cell_type": "code",
      "metadata": {
        "id": "Q5MUccToZLMm",
        "colab_type": "code",
        "colab": {}
      },
      "source": [
        "from pyspark.sql import SparkSession\n",
        "from pyspark.sql import functions as fn\n",
        "from pyspark.sql.types import StringType"
      ],
      "execution_count": 0,
      "outputs": []
    },
    {
      "cell_type": "markdown",
      "metadata": {
        "id": "jaMAQJFxZmST",
        "colab_type": "text"
      },
      "source": [
        "# Create spark session"
      ]
    },
    {
      "cell_type": "code",
      "metadata": {
        "id": "2o0ZTYvHaNdJ",
        "colab_type": "code",
        "outputId": "2bdb226e-9bbf-4add-f654-331768675923",
        "colab": {
          "base_uri": "https://localhost:8080/",
          "height": 214
        }
      },
      "source": [
        "spark = SparkSession.builder.master(\"local[*]\").getOrCreate()\n",
        "spark"
      ],
      "execution_count": 0,
      "outputs": [
        {
          "output_type": "execute_result",
          "data": {
            "text/html": [
              "\n",
              "            <div>\n",
              "                <p><b>SparkSession - in-memory</b></p>\n",
              "                \n",
              "        <div>\n",
              "            <p><b>SparkContext</b></p>\n",
              "\n",
              "            <p><a href=\"http://5d2c2969d33e:4040\">Spark UI</a></p>\n",
              "\n",
              "            <dl>\n",
              "              <dt>Version</dt>\n",
              "                <dd><code>v2.4.5</code></dd>\n",
              "              <dt>Master</dt>\n",
              "                <dd><code>local[*]</code></dd>\n",
              "              <dt>AppName</dt>\n",
              "                <dd><code>pyspark-shell</code></dd>\n",
              "            </dl>\n",
              "        </div>\n",
              "        \n",
              "            </div>\n",
              "        "
            ],
            "text/plain": [
              "<pyspark.sql.session.SparkSession at 0x7f9e89c2e240>"
            ]
          },
          "metadata": {
            "tags": []
          },
          "execution_count": 6
        }
      ]
    },
    {
      "cell_type": "markdown",
      "metadata": {
        "id": "R2uOe7KBXhel",
        "colab_type": "text"
      },
      "source": [
        "# Extract\n",
        "\n"
      ]
    },
    {
      "cell_type": "markdown",
      "metadata": {
        "id": "rgU8JL2uXvFu",
        "colab_type": "text"
      },
      "source": [
        "ไฟล์ข้อมูลพิกัด LAT/LONG ที่ตั้งตำบล\n",
        "\n",
        "Source: https://data.go.th/dataset/item_c6d42e1b-3219-47e1-b6b7-dfe914f27910\n"
      ]
    },
    {
      "cell_type": "code",
      "metadata": {
        "id": "CbTvpmD-XGKs",
        "colab_type": "code",
        "outputId": "7a053368-c522-47b8-fa9b-3b17ba4f2418",
        "colab": {
          "base_uri": "https://localhost:8080/",
          "height": 54
        }
      },
      "source": [
        "tambon_df = spark.read.csv('/content/drive/My Drive/Project/Covid19/tambon_lat_long_data.csv', header=True, inferSchema=True)\n",
        "tambon_df"
      ],
      "execution_count": 0,
      "outputs": [
        {
          "output_type": "execute_result",
          "data": {
            "text/plain": [
              "DataFrame[AD_LEVEL: int, TA_ID: int, TAMBON_T: string, TAMBON_E: string, AM_ID: int, AMPHOE_T: string, AMPHOE_E: string, CH_ID: int, CHANGWAT_T: string, CHANGWAT_E: string, LAT: double, LONG: double]"
            ]
          },
          "metadata": {
            "tags": []
          },
          "execution_count": 7
        }
      ]
    },
    {
      "cell_type": "code",
      "metadata": {
        "id": "rT2Twz3dcE1H",
        "colab_type": "code",
        "outputId": "2de2d4eb-af95-4eb0-f243-a667d88518b3",
        "colab": {
          "base_uri": "https://localhost:8080/",
          "height": 454
        }
      },
      "source": [
        "tambon_df.show()"
      ],
      "execution_count": 0,
      "outputs": [
        {
          "output_type": "stream",
          "text": [
            "+--------+------+--------------+----------+-----+-----------------+--------------------+-----+---------------+-------------+------+-------+\n",
            "|AD_LEVEL| TA_ID|      TAMBON_T|  TAMBON_E|AM_ID|         AMPHOE_T|            AMPHOE_E|CH_ID|     CHANGWAT_T|   CHANGWAT_E|   LAT|   LONG|\n",
            "+--------+------+--------------+----------+-----+-----------------+--------------------+-----+---------------+-------------+------+-------+\n",
            "|       4|910106|ต. เกาะสาหร่าย|  Ko Sarai| 9101|             null|        Mueang Satun|   91|        จ. สตูล|        Satun| 6.546| 99.706|\n",
            "|       4|210114|   ต. มาบตาพุด| Maptaphut| 2101|    อ. เมืองระยอง|       Mueang Rayong|   21|       จ. ระยอง|       Rayong|12.646|101.171|\n",
            "|       4|210114|   ต. มาบตาพุด| Maptaphut| 2101|    อ. เมืองระยอง|       Mueang Rayong|   21|       จ. ระยอง|       Rayong|12.645| 101.17|\n",
            "|       4|210114|   ต. มาบตาพุด| Maptaphut| 2101|    อ. เมืองระยอง|       Mueang Rayong|   21|       จ. ระยอง|       Rayong|12.649|101.174|\n",
            "|       4|210114|   ต. มาบตาพุด| Maptaphut| 2101|    อ. เมืองระยอง|       Mueang Rayong|   21|       จ. ระยอง|       Rayong|12.644|101.169|\n",
            "|       4|860116|  ต. หาดทรายรี|Hat Sai Ri| 8601|    อ. เมืองชุมพร|     Mueang Chumphon|   86|       จ. ชุมพร|     Chumphon|10.459| 99.403|\n",
            "|       4|860706|    ต. ด่านสวี|  Dan Sawi| 8607|           อ. สวี|                Sawi|   86|       จ. ชุมพร|     Chumphon|10.291| 99.241|\n",
            "|       4|440103|     ต. ท่าตูม|   Tha Tum| 4401|อ. เมืองมหาสารคาม|Mueang Maha Sarakham|   44|   จ. มหาสารคาม|Maha Sarakham|16.162|103.484|\n",
            "|       4|840401|    ต. อ่างทอง| Ang Thong| 8404|      อ. เกาะสมุย|            Ko Samui|   84|จ. สุราษฎร์ธานี|  Surat Thani| 9.708| 99.675|\n",
            "|       4|840401|    ต. อ่างทอง| Ang Thong| 8404|      อ. เกาะสมุย|            Ko Samui|   84|จ. สุราษฎร์ธานี|  Surat Thani| 9.796| 99.713|\n",
            "|       4|840401|    ต. อ่างทอง| Ang Thong| 8404|      อ. เกาะสมุย|            Ko Samui|   84|จ. สุราษฎร์ธานี|  Surat Thani| 9.677| 99.659|\n",
            "|       4|200901|     ต. สัตหีบ|  Sattahip| 2009|        อ. สัตหีบ|            Sattahip|   20|      จ. ชลบุรี|    Chon Buri|12.611|100.889|\n",
            "|       4|921003|      ต. ตะเสะ|      Tase| 9210|      อ. หาดสำราญ|          Hat Samran|   92|        จ. ตรัง|        Trang| 7.033| 99.449|\n",
            "|       4|860116|  ต. หาดทรายรี|Hat Sai Ri| 8601|    อ. เมืองชุมพร|     Mueang Chumphon|   86|       จ. ชุมพร|     Chumphon|10.477| 99.369|\n",
            "|       4|860306|    ต. ปากคลอง|Pak Khlong| 8603|         อ. ปะทิว|              Pathio|   86|       จ. ชุมพร|     Chumphon|10.862| 99.486|\n",
            "|       4|860801|    ต. ปากตะโก|  Pak Tako| 8608|      อ. ทุ่งตะโก|          Thung Tako|   86|       จ. ชุมพร|     Chumphon|10.165| 99.176|\n",
            "|       4|860306|    ต. ปากคลอง|Pak Khlong| 8603|         อ. ปะทิว|              Pathio|   86|       จ. ชุมพร|     Chumphon|  10.8| 99.538|\n",
            "|       4|910106|ต. เกาะสาหร่าย|  Ko Sarai| 9101|     อ. เมืองสตูล|        Mueang Satun|   91|        จ. สตูล|        Satun| 6.672| 99.844|\n",
            "|       4|840401|    ต. อ่างทอง| Ang Thong| 8404|      อ. เกาะสมุย|            Ko Samui|   84|จ. สุราษฎร์ธานี|  Surat Thani| 9.767| 99.668|\n",
            "|       4|860116|  ต. หาดทรายรี|Hat Sai Ri| 8601|    อ. เมืองชุมพร|     Mueang Chumphon|   86|       จ. ชุมพร|     Chumphon|10.466| 99.359|\n",
            "+--------+------+--------------+----------+-----+-----------------+--------------------+-----+---------------+-------------+------+-------+\n",
            "only showing top 20 rows\n",
            "\n"
          ],
          "name": "stdout"
        }
      ]
    },
    {
      "cell_type": "markdown",
      "metadata": {
        "id": "U7fyc3NQdEUd",
        "colab_type": "text"
      },
      "source": [
        "# Transform\n",
        "\n"
      ]
    },
    {
      "cell_type": "markdown",
      "metadata": {
        "id": "ee_8xnHMX1rb",
        "colab_type": "text"
      },
      "source": [
        "จากข้อมูล \n",
        "เนื่องจากในหนึ่งจังหวัดมี LAT/LONG อยู่หลายค่าตามตำบลเเละมีค่าซ้ำบ้าง จึงทำการเลือก LAT/LONG เฉพาะอำเภอเมือง\n",
        "\n",
        "เลือกข้อมูลที่เป็นอำเภอเมือง โดยใช้คอลัมน์ AMPHOE_E เทียบกับ CHANGWAT_E ว่ามีชื่อเดียวกันไหม "
      ]
    },
    {
      "cell_type": "code",
      "metadata": {
        "id": "_EHDjYPDcG_c",
        "colab_type": "code",
        "outputId": "48648f14-e392-47fa-be5d-c07d28e6c56b",
        "colab": {
          "base_uri": "https://localhost:8080/",
          "height": 454
        }
      },
      "source": [
        "province_df = tambon_df.select('CH_ID', 'AMPHOE_E', 'CHANGWAT_E', 'CHANGWAT_T', 'LAT', 'LONG')\\\n",
        "                      .where('AMPHOE_E rlike CHANGWAT_E')\n",
        "province_df.show()"
      ],
      "execution_count": 0,
      "outputs": [
        {
          "output_type": "stream",
          "text": [
            "+-----+--------------------+-------------+------------+------+-------+\n",
            "|CH_ID|            AMPHOE_E|   CHANGWAT_E|  CHANGWAT_T|   LAT|   LONG|\n",
            "+-----+--------------------+-------------+------------+------+-------+\n",
            "|   91|        Mueang Satun|        Satun|     จ. สตูล| 6.546| 99.706|\n",
            "|   21|       Mueang Rayong|       Rayong|    จ. ระยอง|12.646|101.171|\n",
            "|   21|       Mueang Rayong|       Rayong|    จ. ระยอง|12.645| 101.17|\n",
            "|   21|       Mueang Rayong|       Rayong|    จ. ระยอง|12.649|101.174|\n",
            "|   21|       Mueang Rayong|       Rayong|    จ. ระยอง|12.644|101.169|\n",
            "|   86|     Mueang Chumphon|     Chumphon|    จ. ชุมพร|10.459| 99.403|\n",
            "|   44|Mueang Maha Sarakham|Maha Sarakham|จ. มหาสารคาม|16.162|103.484|\n",
            "|   86|     Mueang Chumphon|     Chumphon|    จ. ชุมพร|10.477| 99.369|\n",
            "|   91|        Mueang Satun|        Satun|     จ. สตูล| 6.672| 99.844|\n",
            "|   86|     Mueang Chumphon|     Chumphon|    จ. ชุมพร|10.466| 99.359|\n",
            "|   91|        Mueang Satun|        Satun|     จ. สตูล| 6.705| 99.799|\n",
            "|   91|        Mueang Satun|        Satun|     จ. สตูล|  6.71| 99.794|\n",
            "|   91|        Mueang Satun|        Satun|     จ. สตูล| 6.582| 99.719|\n",
            "|   91|        Mueang Satun|        Satun|     จ. สตูล| 6.551|  99.35|\n",
            "|   91|        Mueang Satun|        Satun|     จ. สตูล| 6.675| 99.833|\n",
            "|   91|        Mueang Satun|        Satun|     จ. สตูล| 6.542| 99.164|\n",
            "|   83|       Mueang Phuket|       Phuket|   จ. ภูเก็ต| 7.924| 98.455|\n",
            "|   91|        Mueang Satun|        Satun|     จ. สตูล| 6.524| 99.269|\n",
            "|   86|     Mueang Chumphon|     Chumphon|    จ. ชุมพร|10.486| 99.418|\n",
            "|   91|        Mueang Satun|        Satun|     จ. สตูล| 6.515| 99.174|\n",
            "+-----+--------------------+-------------+------------+------+-------+\n",
            "only showing top 20 rows\n",
            "\n"
          ],
          "name": "stdout"
        }
      ]
    },
    {
      "cell_type": "markdown",
      "metadata": {
        "id": "Efp5etaxjoCX",
        "colab_type": "text"
      },
      "source": [
        "เมื่อได้อำเภอเมืองเเล้ว จะเห็นว่า LAT/LONG ยังมีหลายค่าอยู่ จึงนำมาเฉลี่ย "
      ]
    },
    {
      "cell_type": "code",
      "metadata": {
        "id": "P2IwQcWnjbgG",
        "colab_type": "code",
        "outputId": "5711ba48-2402-4ce6-8fd6-68a63a5b6ea2",
        "colab": {
          "base_uri": "https://localhost:8080/",
          "height": 454
        }
      },
      "source": [
        "province_avg_latlong_df = province_df.groupBy('CH_ID', 'CHANGWAT_E', 'CHANGWAT_T')\\\n",
        "                                      .agg(fn.mean('LAT').alias('AVG_LAT'),fn.mean('LONG').alias('AVG_LONG'))\n",
        "province_avg_latlong_df.show()                          "
      ],
      "execution_count": 0,
      "outputs": [
        {
          "output_type": "stream",
          "text": [
            "+-----+----------------+--------------+------------------+------------------+\n",
            "|CH_ID|      CHANGWAT_E|    CHANGWAT_T|           AVG_LAT|          AVG_LONG|\n",
            "+-----+----------------+--------------+------------------+------------------+\n",
            "|   91|           Satun|       จ. สตูล| 6.617406249999999|      99.669921875|\n",
            "|   31|        Buri Ram|  จ. บุรีรัมย์|14.959684210526314|103.06421052631579|\n",
            "|   39|Nong Bua Lam Phu|จ. หนองบัวลำภู|17.167933333333334|102.39466666666668|\n",
            "|   15|       Ang Thong|    จ. อ่างทอง|14.582999999999998|100.44899999999998|\n",
            "|   82|       Phang-nga|      จ. พังงา| 8.469222222222223|            98.514|\n",
            "|   38|       Bueng Kan|     จ. บึงกาฬ|18.318416666666668|103.58116666666668|\n",
            "|   96|      Narathiwat|   จ. นราธิวาส|6.3878571428571425|101.81457142857143|\n",
            "|   75| Samut Songkhram|จ. สมุทรสงคราม|13.407181818181819| 99.99809090909093|\n",
            "|   93|     Phatthalung|     จ. พัทลุง| 7.606733333333334|100.07346666666668|\n",
            "|   57|      Chiang Rai|   จ. เชียงราย|           19.8986|            99.807|\n",
            "|   74|    Samut Sakhon|  จ. สมุทรสาคร|13.537833333333332|100.25055555555554|\n",
            "|   21|          Rayong|      จ. ระยอง|12.679578947368418|101.30226315789473|\n",
            "|   61|     Uthai Thani|  จ. อุทัยธานี|15.404142857142858|100.02214285714285|\n",
            "|   12|      Nonthaburi|    จ. นนทบุรี|13.850800000000003|100.48519999999999|\n",
            "|   20|       Chon Buri|     จ. ชลบุรี|13.348833333333333|100.98783333333336|\n",
            "|   76|     Phetchaburi|   จ. เพชรบุรี|            13.094| 99.95820833333335|\n",
            "|   44|   Maha Sarakham|  จ. มหาสารคาม| 16.11986666666667|103.32666666666667|\n",
            "|   50|      Chiang Mai|  จ. เชียงใหม่| 18.78853333333334| 98.99420000000002|\n",
            "|   92|           Trang|       จ. ตรัง|              7.58| 99.61319999999999|\n",
            "|   40|       Khon Kaen|    จ. ขอนแก่น|            16.453|102.81805555555555|\n",
            "+-----+----------------+--------------+------------------+------------------+\n",
            "only showing top 20 rows\n",
            "\n"
          ],
          "name": "stdout"
        }
      ]
    },
    {
      "cell_type": "markdown",
      "metadata": {
        "id": "gwTLtsqXlC6L",
        "colab_type": "text"
      },
      "source": [
        "จะได้ LAT/LONG ของแต่ละจังหวัดมา เเล้วตรวจว่าครบ 77 จังหวัดหรือไม่"
      ]
    },
    {
      "cell_type": "code",
      "metadata": {
        "id": "wqduoDCxk48s",
        "colab_type": "code",
        "outputId": "d53f14a4-335d-4fd0-cc63-692eaeab9dc2",
        "colab": {
          "base_uri": "https://localhost:8080/",
          "height": 34
        }
      },
      "source": [
        "province_avg_latlong_df.count()"
      ],
      "execution_count": 0,
      "outputs": [
        {
          "output_type": "execute_result",
          "data": {
            "text/plain": [
              "74"
            ]
          },
          "metadata": {
            "tags": []
          },
          "execution_count": 11
        }
      ]
    },
    {
      "cell_type": "markdown",
      "metadata": {
        "id": "okxq158blhrO",
        "colab_type": "text"
      },
      "source": [
        "พบว่าขาดไป 3 จังหวัด ตรวจว่าจังหวัดไหนหายไป"
      ]
    },
    {
      "cell_type": "markdown",
      "metadata": {
        "id": "kAU1f53Y0ZbB",
        "colab_type": "text"
      },
      "source": [
        "##Problem Solving"
      ]
    },
    {
      "cell_type": "markdown",
      "metadata": {
        "id": "ehqEjMfS0p5G",
        "colab_type": "text"
      },
      "source": [
        "สร้าง list ของจังหวัดทั้งหมดที่มีในตาราง amphoe_df"
      ]
    },
    {
      "cell_type": "code",
      "metadata": {
        "id": "ptm_JJvFlUQg",
        "colab_type": "code",
        "outputId": "50ea8e43-c01c-4598-bc95-a16f691626d7",
        "colab": {
          "base_uri": "https://localhost:8080/",
          "height": 34
        }
      },
      "source": [
        "all_provinces = tambon_df.select('CHANGWAT_E').distinct().collect()\n",
        "len(all_provinces)"
      ],
      "execution_count": 0,
      "outputs": [
        {
          "output_type": "execute_result",
          "data": {
            "text/plain": [
              "78"
            ]
          },
          "metadata": {
            "tags": []
          },
          "execution_count": 12
        }
      ]
    },
    {
      "cell_type": "code",
      "metadata": {
        "id": "B-Gw57l6FYo-",
        "colab_type": "code",
        "outputId": "1f6e7010-1bd3-41c0-f9df-b21f2976c47c",
        "colab": {
          "base_uri": "https://localhost:8080/",
          "height": 101
        }
      },
      "source": [
        "all_provinces[:5]"
      ],
      "execution_count": 0,
      "outputs": [
        {
          "output_type": "execute_result",
          "data": {
            "text/plain": [
              "[Row(CHANGWAT_E='Chachoengsao'),\n",
              " Row(CHANGWAT_E='Phra Nakhon Si Ayutthaya'),\n",
              " Row(CHANGWAT_E='Phitsanulok'),\n",
              " Row(CHANGWAT_E='Sakon Nakhon'),\n",
              " Row(CHANGWAT_E='Ratchaburi')]"
            ]
          },
          "metadata": {
            "tags": []
          },
          "execution_count": 13
        }
      ]
    },
    {
      "cell_type": "code",
      "metadata": {
        "id": "I73bvMpoFc0u",
        "colab_type": "code",
        "outputId": "4b3b9b43-356a-4dd0-b44a-afc8d62eb423",
        "colab": {
          "base_uri": "https://localhost:8080/",
          "height": 34
        }
      },
      "source": [
        "all_provinces[2][0]"
      ],
      "execution_count": 0,
      "outputs": [
        {
          "output_type": "execute_result",
          "data": {
            "text/plain": [
              "'Phitsanulok'"
            ]
          },
          "metadata": {
            "tags": []
          },
          "execution_count": 14
        }
      ]
    },
    {
      "cell_type": "code",
      "metadata": {
        "id": "2IAkpehznwFv",
        "colab_type": "code",
        "colab": {}
      },
      "source": [
        "list_provinces = [all_provinces[i][0] for i in range(len(all_provinces))]"
      ],
      "execution_count": 0,
      "outputs": []
    },
    {
      "cell_type": "markdown",
      "metadata": {
        "id": "4d-iDtGgo5e9",
        "colab_type": "text"
      },
      "source": [
        "ได้ list ของจังหวัดทั้งหมดที่มี"
      ]
    },
    {
      "cell_type": "code",
      "metadata": {
        "id": "TjreuIfZnoJH",
        "colab_type": "code",
        "outputId": "e55f269b-956b-4e0d-e8d8-b18286a1c43f",
        "colab": {
          "base_uri": "https://localhost:8080/",
          "height": 185
        }
      },
      "source": [
        "list_provinces[:10]"
      ],
      "execution_count": 0,
      "outputs": [
        {
          "output_type": "execute_result",
          "data": {
            "text/plain": [
              "['Chachoengsao',\n",
              " 'Phra Nakhon Si Ayutthaya',\n",
              " 'Phitsanulok',\n",
              " 'Sakon Nakhon',\n",
              " 'Ratchaburi',\n",
              " 'Lampang',\n",
              " 'Chiang Mai',\n",
              " 'Narathiwat',\n",
              " 'Phetchabun',\n",
              " 'Uthai Thani']"
            ]
          },
          "metadata": {
            "tags": []
          },
          "execution_count": 16
        }
      ]
    },
    {
      "cell_type": "markdown",
      "metadata": {
        "id": "crZYcqNfpdB3",
        "colab_type": "text"
      },
      "source": [
        "สร้าง list จังหวัดจาก province_avg_latlong_df"
      ]
    },
    {
      "cell_type": "code",
      "metadata": {
        "id": "4zVyJvQfoqWO",
        "colab_type": "code",
        "outputId": "97b9bbc6-9f7d-444e-dc3d-cd03f21001ea",
        "colab": {
          "base_uri": "https://localhost:8080/",
          "height": 34
        }
      },
      "source": [
        "now_provinces = province_avg_latlong_df.select('CHANGWAT_E').collect()\n",
        "len(now_provinces)"
      ],
      "execution_count": 0,
      "outputs": [
        {
          "output_type": "execute_result",
          "data": {
            "text/plain": [
              "74"
            ]
          },
          "metadata": {
            "tags": []
          },
          "execution_count": 17
        }
      ]
    },
    {
      "cell_type": "code",
      "metadata": {
        "id": "MWkl1jfpqGqh",
        "colab_type": "code",
        "outputId": "bb137fea-8375-4826-94bd-398a5d27985b",
        "colab": {
          "base_uri": "https://localhost:8080/",
          "height": 101
        }
      },
      "source": [
        "now_provinces[:5]"
      ],
      "execution_count": 0,
      "outputs": [
        {
          "output_type": "execute_result",
          "data": {
            "text/plain": [
              "[Row(CHANGWAT_E='Satun'),\n",
              " Row(CHANGWAT_E='Buri Ram'),\n",
              " Row(CHANGWAT_E='Nong Bua Lam Phu'),\n",
              " Row(CHANGWAT_E='Ang Thong'),\n",
              " Row(CHANGWAT_E='Phang-nga')]"
            ]
          },
          "metadata": {
            "tags": []
          },
          "execution_count": 18
        }
      ]
    },
    {
      "cell_type": "code",
      "metadata": {
        "id": "FLHpyScbqXnC",
        "colab_type": "code",
        "colab": {}
      },
      "source": [
        "list_now_provinces = [now_provinces[i][0] for i in range(len(now_provinces))]"
      ],
      "execution_count": 0,
      "outputs": []
    },
    {
      "cell_type": "code",
      "metadata": {
        "id": "Hd7IHvIqqg29",
        "colab_type": "code",
        "outputId": "82eb0788-3b03-4a2b-ab58-1956b5bb81a3",
        "colab": {
          "base_uri": "https://localhost:8080/",
          "height": 185
        }
      },
      "source": [
        "list_now_provinces[:10]"
      ],
      "execution_count": 0,
      "outputs": [
        {
          "output_type": "execute_result",
          "data": {
            "text/plain": [
              "['Satun',\n",
              " 'Buri Ram',\n",
              " 'Nong Bua Lam Phu',\n",
              " 'Ang Thong',\n",
              " 'Phang-nga',\n",
              " 'Bueng Kan',\n",
              " 'Narathiwat',\n",
              " 'Samut Songkhram',\n",
              " 'Phatthalung',\n",
              " 'Chiang Rai']"
            ]
          },
          "metadata": {
            "tags": []
          },
          "execution_count": 20
        }
      ]
    },
    {
      "cell_type": "markdown",
      "metadata": {
        "id": "NNe3GfoXqkR2",
        "colab_type": "text"
      },
      "source": [
        "ได้ list ของจังหวัดที่มีอยู่\n",
        "\n",
        "ตรวจสอบจังหวัดที่หายไป"
      ]
    },
    {
      "cell_type": "code",
      "metadata": {
        "id": "-0NeuecLqidt",
        "colab_type": "code",
        "colab": {}
      },
      "source": [
        "lost_provinces = []\n",
        "for province in list_provinces:\n",
        "  if province not in  list_now_provinces:\n",
        "    lost_provinces.append(province)"
      ],
      "execution_count": 0,
      "outputs": []
    },
    {
      "cell_type": "code",
      "metadata": {
        "id": "zAhb-7r33dqs",
        "colab_type": "code",
        "outputId": "fc37f28a-e28b-4c88-de72-77258f55f9b3",
        "colab": {
          "base_uri": "https://localhost:8080/",
          "height": 34
        }
      },
      "source": [
        "print(lost_provinces)"
      ],
      "execution_count": 0,
      "outputs": [
        {
          "output_type": "stream",
          "text": [
            "[None, 'Samut Prakarn', 'Sa kaeo', 'Suphan Buri']\n"
          ],
          "name": "stdout"
        }
      ]
    },
    {
      "cell_type": "markdown",
      "metadata": {
        "id": "Y25FDXLRrLMC",
        "colab_type": "text"
      },
      "source": [
        "ได้จังหวัดที่หายไป 3 จังหวัด\n",
        "\n",
        "ตรวจสอบข้อมูลแต่ละจังหวัดที่หายไปจาก tambon_df"
      ]
    },
    {
      "cell_type": "code",
      "metadata": {
        "id": "DoyU810J36N7",
        "colab_type": "code",
        "outputId": "bbfc3f58-c40a-4e43-c12d-26de23924c83",
        "colab": {
          "base_uri": "https://localhost:8080/",
          "height": 454
        }
      },
      "source": [
        "tambon_df.select('AMPHOE_E', 'CHANGWAT_E').where(tambon_df['CHANGWAT_E'] == lost_provinces[1]).show()"
      ],
      "execution_count": 0,
      "outputs": [
        {
          "output_type": "stream",
          "text": [
            "+-------------------+-------------+\n",
            "|           AMPHOE_E|   CHANGWAT_E|\n",
            "+-------------------+-------------+\n",
            "|      Phra Pradaeng|Samut Prakarn|\n",
            "|      Phra Pradaeng|Samut Prakarn|\n",
            "|      Phra Pradaeng|Samut Prakarn|\n",
            "|      Phra Pradaeng|Samut Prakarn|\n",
            "|      Phra Pradaeng|Samut Prakarn|\n",
            "|      Phra Pradaeng|Samut Prakarn|\n",
            "|      Phra Pradaeng|Samut Prakarn|\n",
            "|      Phra Pradaeng|Samut Prakarn|\n",
            "|      Phra Pradaeng|Samut Prakarn|\n",
            "|      Phra Pradaeng|Samut Prakarn|\n",
            "|Mueang Samut Prakan|Samut Prakarn|\n",
            "|      Phra Pradaeng|Samut Prakarn|\n",
            "|      Phra Pradaeng|Samut Prakarn|\n",
            "|Mueang Samut Prakan|Samut Prakarn|\n",
            "|      Phra Pradaeng|Samut Prakarn|\n",
            "|Mueang Samut Prakan|Samut Prakarn|\n",
            "|      Phra Pradaeng|Samut Prakarn|\n",
            "|      Phra Pradaeng|Samut Prakarn|\n",
            "|Mueang Samut Prakan|Samut Prakarn|\n",
            "|   Phra Samut Chedi|Samut Prakarn|\n",
            "+-------------------+-------------+\n",
            "only showing top 20 rows\n",
            "\n"
          ],
          "name": "stdout"
        }
      ]
    },
    {
      "cell_type": "code",
      "metadata": {
        "id": "2Kjl9KM24ClI",
        "colab_type": "code",
        "outputId": "be00bdd3-52d9-4b5c-b101-56d43319c3b7",
        "colab": {
          "base_uri": "https://localhost:8080/",
          "height": 454
        }
      },
      "source": [
        "tambon_df.select('AMPHOE_E', 'CHANGWAT_E').where(tambon_df['CHANGWAT_E'] == lost_provinces[2]).show()"
      ],
      "execution_count": 0,
      "outputs": [
        {
          "output_type": "stream",
          "text": [
            "+---------------+----------+\n",
            "|       AMPHOE_E|CHANGWAT_E|\n",
            "+---------------+----------+\n",
            "|  Aranyaprathet|   Sa kaeo|\n",
            "|  Aranyaprathet|   Sa kaeo|\n",
            "|  Aranyaprathet|   Sa kaeo|\n",
            "|    Khao Chakan|   Sa kaeo|\n",
            "|  Aranyaprathet|   Sa kaeo|\n",
            "|  Aranyaprathet|   Sa kaeo|\n",
            "|  Aranyaprathet|   Sa kaeo|\n",
            "|      Khok Sung|   Sa kaeo|\n",
            "|  Aranyaprathet|   Sa kaeo|\n",
            "| Mueang Sa Kaeo|   Sa kaeo|\n",
            "|Watthana Nakhon|   Sa kaeo|\n",
            "|     Khlong Hat|   Sa kaeo|\n",
            "|     Khlong Hat|   Sa kaeo|\n",
            "|  Aranyaprathet|   Sa kaeo|\n",
            "|     Khlong Hat|   Sa kaeo|\n",
            "|     Khlong Hat|   Sa kaeo|\n",
            "|  Aranyaprathet|   Sa kaeo|\n",
            "|     Khlong Hat|   Sa kaeo|\n",
            "|Watthana Nakhon|   Sa kaeo|\n",
            "|  Aranyaprathet|   Sa kaeo|\n",
            "+---------------+----------+\n",
            "only showing top 20 rows\n",
            "\n"
          ],
          "name": "stdout"
        }
      ]
    },
    {
      "cell_type": "code",
      "metadata": {
        "id": "2R8C1-vrAfG3",
        "colab_type": "code",
        "outputId": "225353ec-4202-493d-e0c2-34e1efe382d0",
        "colab": {
          "base_uri": "https://localhost:8080/",
          "height": 454
        }
      },
      "source": [
        "tambon_df.select('AMPHOE_E', 'CHANGWAT_E').where(tambon_df['CHANGWAT_E'] == lost_provinces[3]).show()"
      ],
      "execution_count": 0,
      "outputs": [
        {
          "output_type": "stream",
          "text": [
            "+-------------------+-----------+\n",
            "|           AMPHOE_E| CHANGWAT_E|\n",
            "+-------------------+-----------+\n",
            "|Doem Bang Nang Buat|Suphan Buri|\n",
            "| Mueang Saphan Buri|Suphan Buri|\n",
            "| Mueang Saphan Buri|Suphan Buri|\n",
            "| Mueang Saphan Buri|Suphan Buri|\n",
            "|        Bang Pla Ma|Suphan Buri|\n",
            "| Mueang Saphan Buri|Suphan Buri|\n",
            "|      Song Phi Nong|Suphan Buri|\n",
            "| Mueang Saphan Buri|Suphan Buri|\n",
            "| Mueang Saphan Buri|Suphan Buri|\n",
            "|      Song Phi Nong|Suphan Buri|\n",
            "| Mueang Saphan Buri|Suphan Buri|\n",
            "| Mueang Saphan Buri|Suphan Buri|\n",
            "|            U Thong|Suphan Buri|\n",
            "| Mueang Saphan Buri|Suphan Buri|\n",
            "|         Si Prachan|Suphan Buri|\n",
            "| Mueang Saphan Buri|Suphan Buri|\n",
            "|         Si Prachan|Suphan Buri|\n",
            "|            U Thong|Suphan Buri|\n",
            "|            U Thong|Suphan Buri|\n",
            "|            U Thong|Suphan Buri|\n",
            "+-------------------+-----------+\n",
            "only showing top 20 rows\n",
            "\n"
          ],
          "name": "stdout"
        }
      ]
    },
    {
      "cell_type": "markdown",
      "metadata": {
        "id": "5-OnHoy3sJVa",
        "colab_type": "text"
      },
      "source": [
        "สร้าง dataframe ที่เก็บข้อมูลจังหวัดที่หายไป"
      ]
    },
    {
      "cell_type": "code",
      "metadata": {
        "id": "j1DxZn4DHEOg",
        "colab_type": "code",
        "outputId": "77ff0b8e-e0b1-448e-abd7-1037d0328cb4",
        "colab": {
          "base_uri": "https://localhost:8080/",
          "height": 454
        }
      },
      "source": [
        "lost_df = tambon_df.select('CH_ID', 'AMPHOE_E', 'CHANGWAT_E', 'CHANGWAT_T', 'LAT', 'LONG')\\\n",
        "                    .where(((tambon_df['CHANGWAT_E'] == lost_provinces[1]) | \n",
        "                            (tambon_df['CHANGWAT_E'] == lost_provinces[2]) | \n",
        "                            (tambon_df['CHANGWAT_E'] == lost_provinces[3])) &\n",
        "                            (tambon_df['AMPHOE_E'].rlike('Mueang')))\n",
        "lost_df.show()              "
      ],
      "execution_count": 0,
      "outputs": [
        {
          "output_type": "stream",
          "text": [
            "+-----+-------------------+-------------+--------------+------+-------+\n",
            "|CH_ID|           AMPHOE_E|   CHANGWAT_E|    CHANGWAT_T|   LAT|   LONG|\n",
            "+-----+-------------------+-------------+--------------+------+-------+\n",
            "|   11|Mueang Samut Prakan|Samut Prakarn|จ. สมุทรปราการ|13.623|100.565|\n",
            "|   11|Mueang Samut Prakan|Samut Prakarn|จ. สมุทรปราการ|13.622|100.581|\n",
            "|   11|Mueang Samut Prakan|Samut Prakarn|จ. สมุทรปราการ|13.622|100.605|\n",
            "|   72| Mueang Saphan Buri|  Suphan Buri| จ. สุพรรณบุรี|14.471|100.116|\n",
            "|   11|Mueang Samut Prakan|Samut Prakarn|จ. สมุทรปราการ|13.593|100.597|\n",
            "|   72| Mueang Saphan Buri|  Suphan Buri| จ. สุพรรณบุรี|14.434|100.108|\n",
            "|   11|Mueang Samut Prakan|Samut Prakarn|จ. สมุทรปราการ|13.634| 100.61|\n",
            "|   11|Mueang Samut Prakan|Samut Prakarn|จ. สมุทรปราการ|13.572|100.621|\n",
            "|   72| Mueang Saphan Buri|  Suphan Buri| จ. สุพรรณบุรี|14.506|100.107|\n",
            "|   11|Mueang Samut Prakan|Samut Prakarn|จ. สมุทรปราการ|13.649|100.617|\n",
            "|   72| Mueang Saphan Buri|  Suphan Buri| จ. สุพรรณบุรี| 14.47|100.165|\n",
            "|   11|Mueang Samut Prakan|Samut Prakarn|จ. สมุทรปราการ|13.601|100.622|\n",
            "|   72| Mueang Saphan Buri|  Suphan Buri| จ. สุพรรณบุรี|14.531|100.116|\n",
            "|   72| Mueang Saphan Buri|  Suphan Buri| จ. สุพรรณบุรี|14.457|100.003|\n",
            "|   11|Mueang Samut Prakan|Samut Prakarn|จ. สมุทรปราการ|13.556|100.599|\n",
            "|   72| Mueang Saphan Buri|  Suphan Buri| จ. สุพรรณบุรี|14.451|100.113|\n",
            "|   72| Mueang Saphan Buri|  Suphan Buri| จ. สุพรรณบุรี|14.445|100.164|\n",
            "|   11|Mueang Samut Prakan|Samut Prakarn|จ. สมุทรปราการ|13.564|100.653|\n",
            "|   11|Mueang Samut Prakan|Samut Prakarn|จ. สมุทรปราการ| 13.51|100.751|\n",
            "|   72| Mueang Saphan Buri|  Suphan Buri| จ. สุพรรณบุรี| 14.49|100.208|\n",
            "+-----+-------------------+-------------+--------------+------+-------+\n",
            "only showing top 20 rows\n",
            "\n"
          ],
          "name": "stdout"
        }
      ]
    },
    {
      "cell_type": "markdown",
      "metadata": {
        "id": "tQ0tpfGbsgLA",
        "colab_type": "text"
      },
      "source": [
        "เฉลี่ย LAT/LONG จังหวัดที่หายไป"
      ]
    },
    {
      "cell_type": "code",
      "metadata": {
        "id": "FXkVqjerzG3Y",
        "colab_type": "code",
        "outputId": "1ab3822a-dcdf-40ba-89f9-3da8d35c5db1",
        "colab": {
          "base_uri": "https://localhost:8080/",
          "height": 151
        }
      },
      "source": [
        "lost_avg_latlong_df = lost_df.groupBy('CH_ID', 'CHANGWAT_E', 'CHANGWAT_T')\\\n",
        "                              .agg(fn.mean('LAT').alias('AVG_LAT'),fn.mean('LONG').alias('AVG_LONG'))\n",
        "lost_avg_latlong_df.show()"
      ],
      "execution_count": 0,
      "outputs": [
        {
          "output_type": "stream",
          "text": [
            "+-----+-------------+--------------+---------+------------------+\n",
            "|CH_ID|   CHANGWAT_E|    CHANGWAT_T|  AVG_LAT|          AVG_LONG|\n",
            "+-----+-------------+--------------+---------+------------------+\n",
            "|   72|  Suphan Buri| จ. สุพรรณบุรี|  14.4804|100.09329999999999|\n",
            "|   27|      Sa kaeo|    จ. สระแก้ว|13.874125|           102.073|\n",
            "|   11|Samut Prakarn|จ. สมุทรปราการ|   13.587|100.62938461538464|\n",
            "+-----+-------------+--------------+---------+------------------+\n",
            "\n"
          ],
          "name": "stdout"
        }
      ]
    },
    {
      "cell_type": "markdown",
      "metadata": {
        "id": "dirpZgxXsqYO",
        "colab_type": "text"
      },
      "source": [
        "นำ dataframe ที่เก็บข้อมูลที่หายไปมารวมกับ dataframe ข้อมูลที่มีอยู่"
      ]
    },
    {
      "cell_type": "code",
      "metadata": {
        "id": "D0hDht7o3sYx",
        "colab_type": "code",
        "outputId": "7c94c2a1-7b70-46a7-8d77-f6a52c9e5e2e",
        "colab": {
          "base_uri": "https://localhost:8080/",
          "height": 34
        }
      },
      "source": [
        "province_latlong_df = province_avg_latlong_df.unionByName(lost_avg_latlong_df)\n",
        "province_latlong_df.count()"
      ],
      "execution_count": 0,
      "outputs": [
        {
          "output_type": "execute_result",
          "data": {
            "text/plain": [
              "77"
            ]
          },
          "metadata": {
            "tags": []
          },
          "execution_count": 34
        }
      ]
    },
    {
      "cell_type": "markdown",
      "metadata": {
        "id": "bynGDipls_sz",
        "colab_type": "text"
      },
      "source": [
        "ตรวจสอบข้อมูล ได้ครบ 77 จังหวัด"
      ]
    },
    {
      "cell_type": "markdown",
      "metadata": {
        "id": "uSRK-Eo0s0aj",
        "colab_type": "text"
      },
      "source": [
        "สร้างคอลัมน์ LAT_LONG เพื่อเก็บ LAT/LONG ในรูปแปป LAT,LONG"
      ]
    },
    {
      "cell_type": "code",
      "metadata": {
        "id": "juSpsoz6PbhW",
        "colab_type": "code",
        "outputId": "fa70856c-065b-4091-b395-c997587da741",
        "colab": {
          "base_uri": "https://localhost:8080/",
          "height": 454
        }
      },
      "source": [
        "latlong_df = province_latlong_df.withColumn('LAT_LONG', \n",
        "                                          fn.concat_ws(',', province_latlong_df['AVG_LAT'].cast(StringType()),\n",
        "                                                       province_latlong_df['AVG_LONG'].cast(StringType()))).drop('AVG_LAT', 'AVG_LONG')\n",
        "latlong_df.orderBy('CH_ID').show(truncate=False)                                                      "
      ],
      "execution_count": 0,
      "outputs": [
        {
          "output_type": "stream",
          "text": [
            "+-----+------------------------+------------------+-------------------------------------+\n",
            "|CH_ID|CHANGWAT_E              |CHANGWAT_T        |LAT_LONG                             |\n",
            "+-----+------------------------+------------------+-------------------------------------+\n",
            "|10   |Bangkok                 |กรุงเทพมหานคร     |13.75614285714286,100.475            |\n",
            "|11   |Samut Prakarn           |จ. สมุทรปราการ    |13.587,100.62938461538464            |\n",
            "|12   |Nonthaburi              |จ. นนทบุรี        |13.850800000000003,100.48519999999999|\n",
            "|13   |Pathum Thani            |จ. ปทุมธานี       |13.996428571428572,100.5409285714286 |\n",
            "|14   |Phra Nakhon Si Ayutthaya|จ. พระนครศรีอยุธยา|14.355428571428574,100.56190476190474|\n",
            "|15   |Ang Thong               |จ. อ่างทอง        |14.582999999999998,100.44899999999998|\n",
            "|16   |Lop Buri                |จ. ลพบุรี         |14.780208333333333,100.62445833333334|\n",
            "|17   |Sing Buri               |จ. สิงห์บุรี      |14.8995,100.40225000000001           |\n",
            "|18   |Chai Nat                |จ. ชัยนาท         |15.188555555555556,100.13288888888889|\n",
            "|19   |Saraburi                |จ. สระบุรี        |14.512272727272723,100.91627272727273|\n",
            "|20   |Chon Buri               |จ. ชลบุรี         |13.348833333333333,100.98783333333336|\n",
            "|21   |Rayong                  |จ. ระยอง          |12.679578947368418,101.30226315789473|\n",
            "|22   |Chanthaburi             |จ. จันทบุรี       |12.593636363636364,102.1158181818182 |\n",
            "|23   |Trat                    |จ. ตราด           |12.223538461538462,102.57723076923077|\n",
            "|24   |Chachoengsao            |จ. ฉะเชิงเทรา     |13.711263157894734,101.03457894736843|\n",
            "|25   |Prachin Buri            |จ. ปราจีนบุรี     |14.078249999999999,101.37633333333333|\n",
            "|26   |Nakhon Nayok            |จ. นครนายก        |14.217285714285714,101.20285714285716|\n",
            "|27   |Sa kaeo                 |จ. สระแก้ว        |13.874125,102.073                    |\n",
            "|30   |Nakhon Ratchasima       |จ. นครราชสีมา     |14.981434782608694,102.10291304347825|\n",
            "|31   |Buri Ram                |จ. บุรีรัมย์      |14.959684210526314,103.06421052631579|\n",
            "+-----+------------------------+------------------+-------------------------------------+\n",
            "only showing top 20 rows\n",
            "\n"
          ],
          "name": "stdout"
        }
      ]
    },
    {
      "cell_type": "code",
      "metadata": {
        "id": "nL7uTuy4RDYi",
        "colab_type": "code",
        "outputId": "a62951e6-6672-434d-e2a3-9fef6b739c42",
        "colab": {
          "base_uri": "https://localhost:8080/",
          "height": 34
        }
      },
      "source": [
        "latlong_df.count()"
      ],
      "execution_count": 0,
      "outputs": [
        {
          "output_type": "execute_result",
          "data": {
            "text/plain": [
              "77"
            ]
          },
          "metadata": {
            "tags": []
          },
          "execution_count": 38
        }
      ]
    },
    {
      "cell_type": "markdown",
      "metadata": {
        "id": "wCMWunOP65Ik",
        "colab_type": "text"
      },
      "source": [
        "#Final"
      ]
    },
    {
      "cell_type": "code",
      "metadata": {
        "id": "wsE9rHb-ycY5",
        "colab_type": "code",
        "outputId": "4ee24295-3e2a-4d77-e9df-0fbd8f019bb3",
        "colab": {
          "base_uri": "https://localhost:8080/",
          "height": 454
        }
      },
      "source": [
        "final_province_df = latlong_df.withColumn('CHANGWAT_T', fn.regexp_replace(latlong_df['CHANGWAT_T'], 'จ. ', ''))\n",
        "final_province_df.show()"
      ],
      "execution_count": 0,
      "outputs": [
        {
          "output_type": "stream",
          "text": [
            "+-----+----------------+-----------+--------------------+\n",
            "|CH_ID|      CHANGWAT_E| CHANGWAT_T|            LAT_LONG|\n",
            "+-----+----------------+-----------+--------------------+\n",
            "|   91|           Satun|       สตูล|6.617406249999999...|\n",
            "|   31|        Buri Ram|  บุรีรัมย์|14.95968421052631...|\n",
            "|   39|Nong Bua Lam Phu|หนองบัวลำภู|17.16793333333333...|\n",
            "|   15|       Ang Thong|    อ่างทอง|14.58299999999999...|\n",
            "|   82|       Phang-nga|      พังงา|8.469222222222223...|\n",
            "|   38|       Bueng Kan|     บึงกาฬ|18.31841666666666...|\n",
            "|   96|      Narathiwat|   นราธิวาส|6.387857142857142...|\n",
            "|   75| Samut Songkhram|สมุทรสงคราม|13.40718181818181...|\n",
            "|   93|     Phatthalung|     พัทลุง|7.606733333333334...|\n",
            "|   57|      Chiang Rai|   เชียงราย|      19.8986,99.807|\n",
            "|   74|    Samut Sakhon|  สมุทรสาคร|13.53783333333333...|\n",
            "|   21|          Rayong|      ระยอง|12.67957894736841...|\n",
            "|   61|     Uthai Thani|  อุทัยธานี|15.40414285714285...|\n",
            "|   12|      Nonthaburi|    นนทบุรี|13.85080000000000...|\n",
            "|   20|       Chon Buri|     ชลบุรี|13.34883333333333...|\n",
            "|   76|     Phetchaburi|   เพชรบุรี|13.094,99.9582083...|\n",
            "|   44|   Maha Sarakham|  มหาสารคาม|16.11986666666667...|\n",
            "|   50|      Chiang Mai|  เชียงใหม่|18.78853333333334...|\n",
            "|   92|           Trang|       ตรัง|7.58,99.613199999...|\n",
            "|   40|       Khon Kaen|    ขอนแก่น|16.453,102.818055...|\n",
            "+-----+----------------+-----------+--------------------+\n",
            "only showing top 20 rows\n",
            "\n"
          ],
          "name": "stdout"
        }
      ]
    },
    {
      "cell_type": "code",
      "metadata": {
        "id": "l_2Jd3yiypaL",
        "colab_type": "code",
        "outputId": "66aed8c8-e04e-4de9-ffd0-8c62c68d4124",
        "colab": {
          "base_uri": "https://localhost:8080/",
          "height": 1000
        }
      },
      "source": [
        "ordered_province_df = final_province_df.orderBy('CH_ID')\n",
        "ordered_province_df.show(100)"
      ],
      "execution_count": 0,
      "outputs": [
        {
          "output_type": "stream",
          "text": [
            "+-----+--------------------+---------------+--------------------+\n",
            "|CH_ID|          CHANGWAT_E|     CHANGWAT_T|            LAT_LONG|\n",
            "+-----+--------------------+---------------+--------------------+\n",
            "|   10|             Bangkok|  กรุงเทพมหานคร|13.75614285714286...|\n",
            "|   11|       Samut Prakarn|    สมุทรปราการ|13.587,100.629384...|\n",
            "|   12|          Nonthaburi|        นนทบุรี|13.85080000000000...|\n",
            "|   13|        Pathum Thani|       ปทุมธานี|13.99642857142857...|\n",
            "|   14|Phra Nakhon Si Ay...|พระนครศรีอยุธยา|14.35542857142857...|\n",
            "|   15|           Ang Thong|        อ่างทอง|14.58299999999999...|\n",
            "|   16|            Lop Buri|         ลพบุรี|14.78020833333333...|\n",
            "|   17|           Sing Buri|      สิงห์บุรี|14.8995,100.40225...|\n",
            "|   18|            Chai Nat|         ชัยนาท|15.18855555555555...|\n",
            "|   19|            Saraburi|        สระบุรี|14.51227272727272...|\n",
            "|   20|           Chon Buri|         ชลบุรี|13.34883333333333...|\n",
            "|   21|              Rayong|          ระยอง|12.67957894736841...|\n",
            "|   22|         Chanthaburi|       จันทบุรี|12.59363636363636...|\n",
            "|   23|                Trat|           ตราด|12.22353846153846...|\n",
            "|   24|        Chachoengsao|     ฉะเชิงเทรา|13.71126315789473...|\n",
            "|   25|        Prachin Buri|     ปราจีนบุรี|14.07824999999999...|\n",
            "|   26|        Nakhon Nayok|        นครนายก|14.21728571428571...|\n",
            "|   27|             Sa kaeo|        สระแก้ว|   13.874125,102.073|\n",
            "|   30|   Nakhon Ratchasima|     นครราชสีมา|14.98143478260869...|\n",
            "|   31|            Buri Ram|      บุรีรัมย์|14.95968421052631...|\n",
            "|   32|               Surin|       สุรินทร์|14.89595238095238...|\n",
            "|   33|           Si Sa Ket|       ศรีสะเกษ|15.07706249999999...|\n",
            "|   34|    Ubon Ratchathani|    อุบลราชธานี|15.29874999999999...|\n",
            "|   35|            Yasothon|          ยโสธร|15.84349999999999...|\n",
            "|   36|          Chaiyaphum|        ชัยภูมิ|15.83505263157895...|\n",
            "|   37|       Amnat Charoen|     อำนาจเจริญ|15.874,104.630684...|\n",
            "|   38|           Bueng Kan|         บึงกาฬ|18.31841666666666...|\n",
            "|   39|    Nong Bua Lam Phu|    หนองบัวลำภู|17.16793333333333...|\n",
            "|   40|           Khon Kaen|        ขอนแก่น|16.453,102.818055...|\n",
            "|   41|          Udon Thani|       อุดรธานี|17.40165000000000...|\n",
            "|   42|                Loei|            เลย|17.53514285714285...|\n",
            "|   43|           Nong Khai|        หนองคาย|17.84849999999999...|\n",
            "|   44|       Maha Sarakham|      มหาสารคาม|16.11986666666667...|\n",
            "|   45|              Roi Et|       ร้อยเอ็ด|16.01113333333333...|\n",
            "|   46|             Kalasin|      กาฬสินธุ์|16.51052941176470...|\n",
            "|   47|        Sakon Nakhon|         สกลนคร| 17.1665,104.1448125|\n",
            "|   48|       Nakhon Phanom|         นครพนม|17.32228571428571...|\n",
            "|   49|            Mukdahan|       มุกดาหาร|16.56138461538462...|\n",
            "|   50|          Chiang Mai|      เชียงใหม่|18.78853333333334...|\n",
            "|   51|             Lamphun|          ลำพูน|18.56913333333333...|\n",
            "|   52|             Lampang|          ลำปาง|18.365375,99.5104375|\n",
            "|   53|           Uttaradit|      อุตรดิตถ์|17.65288235294117...|\n",
            "|   54|               Phrae|           แพร่|18.22251612903225...|\n",
            "|   55|                 Nan|           น่าน|18.79527272727272...|\n",
            "|   56|              Phayao|          พะเยา|19.17593333333333...|\n",
            "|   57|          Chiang Rai|       เชียงราย|      19.8986,99.807|\n",
            "|   58|        Mae Hong Son|     แม่ฮ่องสอน|19.264,97.9846666...|\n",
            "|   60|        Nakhon Sawan|      นครสวรรค์|15.71535294117647...|\n",
            "|   61|         Uthai Thani|      อุทัยธานี|15.40414285714285...|\n",
            "|   62|      Kamphaeng Phet|      กำแพงเพชร|16.43575,99.51274...|\n",
            "|   63|                 Tak|            ตาก|16.95972222222222...|\n",
            "|   64|           Sukhothai|        สุโขทัย|     17.0192,99.8091|\n",
            "|   65|         Phitsanulok|       พิษณุโลก|16.82157142857142...|\n",
            "|   66|             Phichit|         พิจิตร|16.421375,100.356...|\n",
            "|   67|          Phetchabun|      เพชรบูรณ์|16.37470588235294...|\n",
            "|   70|          Ratchaburi|        ราชบุรี|13.54381818181818...|\n",
            "|   71|        Kanchanaburi|      กาญจนบุรี|14.05554545454545...|\n",
            "|   72|         Suphan Buri|     สุพรรณบุรี|14.4804,100.09329...|\n",
            "|   73|       Nakhon Pathom|         นครปฐม|13.82192,100.0324...|\n",
            "|   74|        Samut Sakhon|      สมุทรสาคร|13.53783333333333...|\n",
            "|   75|     Samut Songkhram|    สมุทรสงคราม|13.40718181818181...|\n",
            "|   76|         Phetchaburi|       เพชรบุรี|13.094,99.9582083...|\n",
            "|   77| Prachuap Khiri Khan|ประจวบคีรีขันธ์|11.82966666666666...|\n",
            "|   80| Nakhon Si Thammarat|  นครศรีธรรมราช|8.430499999999999...|\n",
            "|   81|               Krabi|         กระบี่|8.053903225806451...|\n",
            "|   82|           Phang-nga|          พังงา|8.469222222222223...|\n",
            "|   83|              Phuket|         ภูเก็ต|7.800833333333332...|\n",
            "|   84|         Surat Thani|   สุราษฎร์ธานี|9.128727272727273...|\n",
            "|   85|              Ranong|          ระนอง|9.866846153846154...|\n",
            "|   86|            Chumphon|          ชุมพร|10.44655882352941...|\n",
            "|   90|            Songkhla|          สงขลา|7.138857142857144...|\n",
            "|   91|               Satun|           สตูล|6.617406249999999...|\n",
            "|   92|               Trang|           ตรัง|7.58,99.613199999...|\n",
            "|   93|         Phatthalung|         พัทลุง|7.606733333333334...|\n",
            "|   94|             Pattani|        ปัตตานี|6.854461538461539...|\n",
            "|   95|                Yala|           ยะลา|6.547214285714285...|\n",
            "|   96|          Narathiwat|       นราธิวาส|6.387857142857142...|\n",
            "+-----+--------------------+---------------+--------------------+\n",
            "\n"
          ],
          "name": "stdout"
        }
      ]
    },
    {
      "cell_type": "markdown",
      "metadata": {
        "id": "q6qwCU5aqO7p",
        "colab_type": "text"
      },
      "source": [
        "# Load "
      ]
    },
    {
      "cell_type": "markdown",
      "metadata": {
        "id": "pWbEktqvtGdF",
        "colab_type": "text"
      },
      "source": [
        "เก็บข้อมูลที่ transform เเล้วไว้ใน drive"
      ]
    },
    {
      "cell_type": "code",
      "metadata": {
        "id": "Si1SBhDuR7VN",
        "colab_type": "code",
        "colab": {}
      },
      "source": [
        "ordered_province_df.coalesce(1).write.csv('/content/drive/My Drive/Project/Covid19/single_province_lat_long.csv', header=True)"
      ],
      "execution_count": 0,
      "outputs": []
    }
  ]
}