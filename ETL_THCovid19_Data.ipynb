{
  "nbformat": 4,
  "nbformat_minor": 0,
  "metadata": {
    "colab": {
      "name": "ETL_THCovid19_Data",
      "provenance": [],
      "collapsed_sections": [
        "KfGZJxwgN1Ci"
      ],
      "mount_file_id": "145h5YYKzitwuB6uR-LcNFkiIZUGHiK_N",
      "authorship_tag": "ABX9TyPX3+4HMZQsXE4dpj7JdbZK",
      "include_colab_link": true
    },
    "kernelspec": {
      "name": "python3",
      "display_name": "Python 3"
    }
  },
  "cells": [
    {
      "cell_type": "markdown",
      "metadata": {
        "id": "view-in-github",
        "colab_type": "text"
      },
      "source": [
        "<a href=\"https://colab.research.google.com/github/ThanaVi/THCovid19_Report/blob/master/ETL_THCovid19_Data.ipynb\" target=\"_parent\"><img src=\"https://colab.research.google.com/assets/colab-badge.svg\" alt=\"Open In Colab\"/></a>"
      ]
    },
    {
      "cell_type": "markdown",
      "metadata": {
        "id": "s09TelcfDBk6",
        "colab_type": "text"
      },
      "source": [
        "#Target \n",
        "1. เปลี่ยนชื่อจังหวัดที่พบผู้ป่วย (Province of onset) เพื่อนำไปใช้ JOIN กับ ข้อมูล Latitude, Longtitude ที่เตรียมไว้\n",
        "\n",
        "2. JOIN ข้อมูลเเล้วโหลดเข้า BigQuery"
      ]
    },
    {
      "cell_type": "markdown",
      "metadata": {
        "id": "trOl3E0TmfNn",
        "colab_type": "text"
      },
      "source": [
        "#Result\n",
        "\n",
        "ข้อมูลจาก Source\n",
        "\n",
        "1. ข้อมูลผู้ป่วยติดเชื้อ\n",
        "![alt text](https://drive.google.com/uc?id=1p1ZMxni2BL__PzCzrcpPcZJ5QocxHmXw)\n",
        "2. ข้อมูลละติจูด, ลองติจูดของแต่ละจังหวัดในประเทศไทยที่เตรียมไว้\n",
        "![alt text](https://drive.google.com/uc?id=1t3goOwsWC7OAZd4ck8CSkP23I7rqKIZZ)\n",
        "\n",
        "ข้อมูลที่ได้จาก Transformation\n",
        "![alt text](https://drive.google.com/uc?id=1kIi-suj7SuI0R9yBTCfgHvFxQqT_pSPt)"
      ]
    },
    {
      "cell_type": "markdown",
      "metadata": {
        "id": "HsVtd6PbDgJx",
        "colab_type": "text"
      },
      "source": [
        "#Install Pyspark"
      ]
    },
    {
      "cell_type": "code",
      "metadata": {
        "id": "2nQfBiiJ1JMv",
        "colab_type": "code",
        "colab": {}
      },
      "source": [
        "!apt-get install openjdk-8-jdk-headless -qq > /dev/null\n",
        "!wget -q https://downloads.apache.org/spark/spark-2.4.5/spark-2.4.5-bin-hadoop2.7.tgz\n",
        "!tar xzvf spark-2.4.5-bin-hadoop2.7.tgz\n",
        "!pip install -q findspark\n",
        "\n",
        "import os\n",
        "os.environ[\"JAVA_HOME\"] = \"/usr/lib/jvm/java-8-openjdk-amd64\"\n",
        "os.environ[\"SPARK_HOME\"] = \"/content/spark-2.4.5-bin-hadoop2.7\"\n",
        "\n",
        "!pip install pyspark"
      ],
      "execution_count": 0,
      "outputs": []
    },
    {
      "cell_type": "markdown",
      "metadata": {
        "id": "-4NwaNb0EGni",
        "colab_type": "text"
      },
      "source": [
        "# Import library"
      ]
    },
    {
      "cell_type": "code",
      "metadata": {
        "id": "gZEhXOwD2V3a",
        "colab_type": "code",
        "colab": {}
      },
      "source": [
        "from pyspark.sql import SparkSession, SQLContext, functions as fn"
      ],
      "execution_count": 0,
      "outputs": []
    },
    {
      "cell_type": "markdown",
      "metadata": {
        "id": "KpAH4iXQEHl1",
        "colab_type": "text"
      },
      "source": [
        "# Create spark session"
      ]
    },
    {
      "cell_type": "code",
      "metadata": {
        "id": "4eyEQZqd2YvX",
        "colab_type": "code",
        "outputId": "7c0de7a2-6267-4f77-942a-2f7309ed8c73",
        "colab": {
          "base_uri": "https://localhost:8080/",
          "height": 214
        }
      },
      "source": [
        "spark = SparkSession.builder.master(\"local[*]\").getOrCreate()\n",
        "spark"
      ],
      "execution_count": 0,
      "outputs": [
        {
          "output_type": "execute_result",
          "data": {
            "text/html": [
              "\n",
              "            <div>\n",
              "                <p><b>SparkSession - in-memory</b></p>\n",
              "                \n",
              "        <div>\n",
              "            <p><b>SparkContext</b></p>\n",
              "\n",
              "            <p><a href=\"http://866900fc60e7:4040\">Spark UI</a></p>\n",
              "\n",
              "            <dl>\n",
              "              <dt>Version</dt>\n",
              "                <dd><code>v2.4.5</code></dd>\n",
              "              <dt>Master</dt>\n",
              "                <dd><code>local[*]</code></dd>\n",
              "              <dt>AppName</dt>\n",
              "                <dd><code>pyspark-shell</code></dd>\n",
              "            </dl>\n",
              "        </div>\n",
              "        \n",
              "            </div>\n",
              "        "
            ],
            "text/plain": [
              "<pyspark.sql.session.SparkSession at 0x7f7915805780>"
            ]
          },
          "metadata": {
            "tags": []
          },
          "execution_count": 5
        }
      ]
    },
    {
      "cell_type": "markdown",
      "metadata": {
        "id": "vDrMqZtqEPtV",
        "colab_type": "text"
      },
      "source": [
        "# Extract"
      ]
    },
    {
      "cell_type": "markdown",
      "metadata": {
        "id": "yTPE3frSX85J",
        "colab_type": "text"
      },
      "source": [
        "\n",
        "\n",
        "ไฟล์ข้อมูลผู้ป่วย Covid19\n",
        "\n",
        "Source: https://data.go.th/dataset/covid-19-daily"
      ]
    },
    {
      "cell_type": "code",
      "metadata": {
        "id": "VdPcm9NN2c1O",
        "colab_type": "code",
        "outputId": "d4b14eec-218b-4acb-801f-2727739c73f0",
        "colab": {
          "base_uri": "https://localhost:8080/",
          "height": 454
        }
      },
      "source": [
        "case_df = spark.read.csv('/content/drive/My Drive/Project/Covid19/covid19_200112-200430.csv', header=True, inferSchema=True)\n",
        "case_df.show()"
      ],
      "execution_count": 0,
      "outputs": [
        {
          "output_type": "stream",
          "text": [
            "+---+----+----+-----------+---------------------+-----------------+-------------+-----------------+-----------------+\n",
            "| no| age| sex|nationality|Province of isolation|Notification date|Announce Date|Province of onset|District of onset|\n",
            "+---+----+----+-----------+---------------------+-----------------+-------------+-----------------+-----------------+\n",
            "|  1|61.0|หญิง|        จีน|                  กทม|             null|     12-01-20|              กทม|             null|\n",
            "|  2|74.0|หญิง|        จีน|                  กทม|             null|     17-01-20|              กทม|             null|\n",
            "|  3|73.0|หญิง|        ไทย|               นครปฐม|             null|     22-01-20|           นครปฐม|            เมือง|\n",
            "|  4|68.0| ชาย|        จีน|                  กทม|             null|     22-01-20|              กทม|             null|\n",
            "|  5|66.0|หญิง|        จีน|              นนทบุรี|             null|     24-01-20|              กทม|             null|\n",
            "|  6|33.0|หญิง|        จีน|                  กทม|             null|     25-01-20|              กทม|             null|\n",
            "|  7|57.0|หญิง|        จีน|                  กทม|             null|     26-01-20|              กทม|             null|\n",
            "|  8|73.0|หญิง|        จีน|      ประจวบคีรีขันธ์|             null|     26-01-20|  ประจวบคีรีขันธ์|           หัวหิน|\n",
            "|  9|63.0| ชาย|        จีน|                  กทม|             null|     28-01-20|              กทม|             null|\n",
            "| 10|28.0|หญิง|        จีน|              นนทบุรี|             null|     28-01-20|          นนทบุรี|             null|\n",
            "| 11|33.0| ชาย|        จีน|                  กทม|             null|     28-01-20|              กทม|             null|\n",
            "| 12|61.0| ชาย|        จีน|                  กทม|             null|     28-01-20|              กทม|             null|\n",
            "| 13| 6.0| ชาย|        จีน|                  กทม|             null|     28-01-20|              กทม|             null|\n",
            "| 14|32.0|หญิง|        จีน|               ภูเก็ต|             null|     28-01-20|           ภูเก็ต|            เมือง|\n",
            "| 15|56.0| ชาย|        จีน|                  กทม|             null|     31-01-20|              กทม|             null|\n",
            "| 16|50.0| ชาย|        ไทย|                  กทม|             null|     31-01-20|              กทม|             null|\n",
            "| 17|28.0| ชาย|        จีน|            เชียงใหม่|             null|     31-01-20|        เชียงใหม่|             null|\n",
            "| 18|30.0| ชาย|        จีน|                  กทม|             null|     31-01-20|              กทม|             null|\n",
            "| 19|33.0| ชาย|        จีน|                  กทม|             null|     31-01-20|              กทม|             null|\n",
            "| 20|43.0|หญิง|        ไทย|                  กทม|             null|     04-02-20|              กทม|             null|\n",
            "+---+----+----+-----------+---------------------+-----------------+-------------+-----------------+-----------------+\n",
            "only showing top 20 rows\n",
            "\n"
          ],
          "name": "stdout"
        }
      ]
    },
    {
      "cell_type": "code",
      "metadata": {
        "id": "mtGtAUBWIdSm",
        "colab_type": "code",
        "outputId": "a88cb21b-711d-44c0-9eb9-0a89adc4338d",
        "colab": {
          "base_uri": "https://localhost:8080/",
          "height": 34
        }
      },
      "source": [
        "case_df.count()"
      ],
      "execution_count": 0,
      "outputs": [
        {
          "output_type": "execute_result",
          "data": {
            "text/plain": [
              "3294"
            ]
          },
          "metadata": {
            "tags": []
          },
          "execution_count": 8
        }
      ]
    },
    {
      "cell_type": "markdown",
      "metadata": {
        "id": "9zuYnyFQMdWH",
        "colab_type": "text"
      },
      "source": [
        "# Transform\n",
        "\n"
      ]
    },
    {
      "cell_type": "markdown",
      "metadata": {
        "id": "WNgevQN5NKrY",
        "colab_type": "text"
      },
      "source": [
        "##Problem Solving\n",
        "\n",
        "ข้อมูลควรมี 2944 (จำนวนจาก Source) แต่อ่านจากไฟล์ได้ 3294 "
      ]
    },
    {
      "cell_type": "code",
      "metadata": {
        "id": "OGxwZZBAA7ft",
        "colab_type": "code",
        "outputId": "57e46ecb-194b-430d-8deb-4ea1ff2a0f2b",
        "colab": {
          "base_uri": "https://localhost:8080/",
          "height": 205
        }
      },
      "source": [
        "case_df.collect()[2940:2950]"
      ],
      "execution_count": 0,
      "outputs": [
        {
          "output_type": "execute_result",
          "data": {
            "text/plain": [
              "[Row(no=2941, age=62.0, sex='หญิง', nationality='ไทย', Province of isolation='ภูเก็ต', Notification date='28-04-20', Announce Date='29-04-20', Province of onset='ภูเก็ต', District of onset='ถลาง'),\n",
              " Row(no=2940, age=44.0, sex='หญิง', nationality='ไทย', Province of isolation='ภูเก็ต', Notification date='28-04-20', Announce Date='29-04-20', Province of onset='ภูเก็ต', District of onset='ถลาง'),\n",
              " Row(no=2945, age=30.0, sex='หญิง', nationality='ไทย', Province of isolation='สมุทรปราการ', Notification date='28-04-20', Announce Date='29-04-20', Province of onset='สมุทรปราการ', District of onset=None),\n",
              " Row(no=2946, age=22.0, sex='หญิง', nationality='ไทย', Province of isolation='สมุทรปราการ', Notification date='28-04-20', Announce Date='29-04-20', Province of onset='สมุทรปราการ', District of onset=None),\n",
              " Row(no=2939, age=8.0, sex='หญิง', nationality='ไทย', Province of isolation='กทม', Notification date='28-04-20', Announce Date='29-04-20', Province of onset='นนทบุรี', District of onset='เมือง'),\n",
              " Row(no=2943, age=57.0, sex='หญิง', nationality='ไทย', Province of isolation='กทม', Notification date='28-04-20', Announce Date='29-04-20', Province of onset='กทม', District of onset='คลองสาน'),\n",
              " Row(no=2944, age=39.0, sex='ชาย', nationality='ไทย', Province of isolation='กทม', Notification date='28-04-20', Announce Date='29-04-20', Province of onset='กทม', District of onset=None),\n",
              " Row(no=None, age=None, sex=None, nationality=None, Province of isolation=None, Notification date=None, Announce Date=None, Province of onset=None, District of onset=None),\n",
              " Row(no=None, age=None, sex=None, nationality=None, Province of isolation=None, Notification date=None, Announce Date=None, Province of onset=None, District of onset=None),\n",
              " Row(no=None, age=None, sex=None, nationality=None, Province of isolation=None, Notification date=None, Announce Date=None, Province of onset=None, District of onset=None)]"
            ]
          },
          "metadata": {
            "tags": []
          },
          "execution_count": 9
        }
      ]
    },
    {
      "cell_type": "markdown",
      "metadata": {
        "id": "8W4gsDPtNBKp",
        "colab_type": "text"
      },
      "source": [
        "พบว่าที่เกินมาเป็น null"
      ]
    },
    {
      "cell_type": "code",
      "metadata": {
        "id": "ZVCbIfeHGP9D",
        "colab_type": "code",
        "outputId": "364f928e-96e8-4ae7-e4c1-3b96a79c4f40",
        "colab": {
          "base_uri": "https://localhost:8080/",
          "height": 34
        }
      },
      "source": [
        "case_df.count() - case_df.where(case_df['no'].isNull()).count()"
      ],
      "execution_count": 0,
      "outputs": [
        {
          "output_type": "execute_result",
          "data": {
            "text/plain": [
              "2947"
            ]
          },
          "metadata": {
            "tags": []
          },
          "execution_count": 41
        }
      ]
    },
    {
      "cell_type": "markdown",
      "metadata": {
        "id": "FVFFI220NWCj",
        "colab_type": "text"
      },
      "source": [
        "สร้าง Dataframe ใหม่ โดยเลือกข้อมูลที่ไม่เป็น null"
      ]
    },
    {
      "cell_type": "code",
      "metadata": {
        "id": "eRhkYZpuIhq9",
        "colab_type": "code",
        "outputId": "646cd4ff-5775-43c4-963a-b1e3496cfb72",
        "colab": {
          "base_uri": "https://localhost:8080/",
          "height": 34
        }
      },
      "source": [
        "notNull_case_df = case_df.where(case_df['no'].isNotNull())\n",
        "notNull_case_df.count()"
      ],
      "execution_count": 0,
      "outputs": [
        {
          "output_type": "execute_result",
          "data": {
            "text/plain": [
              "2947"
            ]
          },
          "metadata": {
            "tags": []
          },
          "execution_count": 128
        }
      ]
    },
    {
      "cell_type": "markdown",
      "metadata": {
        "id": "qjOlYLoaNh9D",
        "colab_type": "text"
      },
      "source": [
        "ได้ข้อมูลถูกต้อง"
      ]
    },
    {
      "cell_type": "code",
      "metadata": {
        "id": "Dyoldl7z4EFH",
        "colab_type": "code",
        "outputId": "70c10aac-b796-455a-ec2f-8634bfd28749",
        "colab": {
          "base_uri": "https://localhost:8080/",
          "height": 154
        }
      },
      "source": [
        "notNull_case_df.collect()[2940:2950]"
      ],
      "execution_count": 0,
      "outputs": [
        {
          "output_type": "execute_result",
          "data": {
            "text/plain": [
              "[Row(no=2941, age=62.0, sex='หญิง', nationality='ไทย', Province of isolation='ภูเก็ต', Notification date='28-04-20', Announce Date='29-04-20', Province of onset='ภูเก็ต', District of onset='ถลาง'),\n",
              " Row(no=2940, age=44.0, sex='หญิง', nationality='ไทย', Province of isolation='ภูเก็ต', Notification date='28-04-20', Announce Date='29-04-20', Province of onset='ภูเก็ต', District of onset='ถลาง'),\n",
              " Row(no=2945, age=30.0, sex='หญิง', nationality='ไทย', Province of isolation='สมุทรปราการ', Notification date='28-04-20', Announce Date='29-04-20', Province of onset='สมุทรปราการ', District of onset=None),\n",
              " Row(no=2946, age=22.0, sex='หญิง', nationality='ไทย', Province of isolation='สมุทรปราการ', Notification date='28-04-20', Announce Date='29-04-20', Province of onset='สมุทรปราการ', District of onset=None),\n",
              " Row(no=2939, age=8.0, sex='หญิง', nationality='ไทย', Province of isolation='กทม', Notification date='28-04-20', Announce Date='29-04-20', Province of onset='นนทบุรี', District of onset='เมือง'),\n",
              " Row(no=2943, age=57.0, sex='หญิง', nationality='ไทย', Province of isolation='กทม', Notification date='28-04-20', Announce Date='29-04-20', Province of onset='กทม', District of onset='คลองสาน'),\n",
              " Row(no=2944, age=39.0, sex='ชาย', nationality='ไทย', Province of isolation='กทม', Notification date='28-04-20', Announce Date='29-04-20', Province of onset='กทม', District of onset=None)]"
            ]
          },
          "metadata": {
            "tags": []
          },
          "execution_count": 15
        }
      ]
    },
    {
      "cell_type": "markdown",
      "metadata": {
        "id": "KfGZJxwgN1Ci",
        "colab_type": "text"
      },
      "source": [
        "## Check province name\n",
        "\n",
        "เช็คชื่อจังหวัดที่มีว่าตรงกับชื่อจังหวัดของตารางที่จะ JOIN ด้วยหรือไม่"
      ]
    },
    {
      "cell_type": "code",
      "metadata": {
        "id": "5Gh9wCo14Fbn",
        "colab_type": "code",
        "outputId": "7cce1062-4d8b-4261-fe69-c3fc868ef66f",
        "colab": {
          "base_uri": "https://localhost:8080/",
          "height": 34
        }
      },
      "source": [
        "notNull_case_df.select('Province of onset').distinct().orderBy('Province of onset').count()"
      ],
      "execution_count": 0,
      "outputs": [
        {
          "output_type": "execute_result",
          "data": {
            "text/plain": [
              "70"
            ]
          },
          "metadata": {
            "tags": []
          },
          "execution_count": 17
        }
      ]
    },
    {
      "cell_type": "code",
      "metadata": {
        "id": "BzpmGzKx6atw",
        "colab_type": "code",
        "outputId": "f58a00c1-01e7-4211-becb-1c124e74d1be",
        "colab": {
          "base_uri": "https://localhost:8080/",
          "height": 185
        }
      },
      "source": [
        "covid19_provinces = notNull_case_df.select('Province of onset').distinct().collect()\n",
        "covid19_provinces[:10]"
      ],
      "execution_count": 0,
      "outputs": [
        {
          "output_type": "execute_result",
          "data": {
            "text/plain": [
              "[Row(Province of onset='สุรินทร์'),\n",
              " Row(Province of onset='ระยอง'),\n",
              " Row(Province of onset='ลำปาง'),\n",
              " Row(Province of onset='กระบี่'),\n",
              " Row(Province of onset='ไม่ระบุ'),\n",
              " Row(Province of onset='บุรีรัมย์'),\n",
              " Row(Province of onset='สระแก้ว'),\n",
              " Row(Province of onset='ร้อยเอ็ด'),\n",
              " Row(Province of onset='ตาก'),\n",
              " Row(Province of onset='เพชรบูรณ์')]"
            ]
          },
          "metadata": {
            "tags": []
          },
          "execution_count": 130
        }
      ]
    },
    {
      "cell_type": "markdown",
      "metadata": {
        "id": "noMB56L6QxlO",
        "colab_type": "text"
      },
      "source": [
        "List ของชื่อจังหวัดที่มีในข้อมูลผู้ป่วย Covid19"
      ]
    },
    {
      "cell_type": "code",
      "metadata": {
        "id": "OwTSBWkb6prK",
        "colab_type": "code",
        "outputId": "c2622198-4e30-4489-aa30-c5d06d3ef914",
        "colab": {
          "base_uri": "https://localhost:8080/",
          "height": 34
        }
      },
      "source": [
        "list_covid19_provinces = [covid19_provinces[i][0] for i in range(len(covid19_provinces))]\n",
        "len(list_covid19_provinces)"
      ],
      "execution_count": 0,
      "outputs": [
        {
          "output_type": "execute_result",
          "data": {
            "text/plain": [
              "70"
            ]
          },
          "metadata": {
            "tags": []
          },
          "execution_count": 129
        }
      ]
    },
    {
      "cell_type": "markdown",
      "metadata": {
        "id": "7w5eyu42QBZy",
        "colab_type": "text"
      },
      "source": [
        "โหลดข้อมูลสำหรับตรวจสอบชื่อจังหวัด"
      ]
    },
    {
      "cell_type": "code",
      "metadata": {
        "id": "cnxnU7_64ZP3",
        "colab_type": "code",
        "colab": {}
      },
      "source": [
        "province_df = spark.read.csv('/content/drive/My Drive/Project/Covid19/single_province_lat_long.csv/part-00000-54915bbe-4d99-4979-bc9f-2d80487df96a-c000.csv', header=True, inferSchema=True)"
      ],
      "execution_count": 0,
      "outputs": []
    },
    {
      "cell_type": "code",
      "metadata": {
        "id": "uJ2Kkvy25WFn",
        "colab_type": "code",
        "outputId": "aadadc41-9b40-452c-bd93-2546693c75a8",
        "colab": {
          "base_uri": "https://localhost:8080/",
          "height": 34
        }
      },
      "source": [
        "province_df.count()"
      ],
      "execution_count": 0,
      "outputs": [
        {
          "output_type": "execute_result",
          "data": {
            "text/plain": [
              "77"
            ]
          },
          "metadata": {
            "tags": []
          },
          "execution_count": 26
        }
      ]
    },
    {
      "cell_type": "code",
      "metadata": {
        "id": "vuw-I0I1jEec",
        "colab_type": "code",
        "outputId": "c1b2e66e-f25f-4586-eabb-f982d218a951",
        "colab": {
          "base_uri": "https://localhost:8080/",
          "height": 454
        }
      },
      "source": [
        "province_df.show()"
      ],
      "execution_count": 0,
      "outputs": [
        {
          "output_type": "stream",
          "text": [
            "+-----+--------------------+---------------+--------------------+\n",
            "|CH_ID|          CHANGWAT_E|     CHANGWAT_T|            LAT_LONG|\n",
            "+-----+--------------------+---------------+--------------------+\n",
            "|   10|             Bangkok|  กรุงเทพมหานคร|13.75614285714286...|\n",
            "|   11|       Samut Prakarn|    สมุทรปราการ|13.587,100.629384...|\n",
            "|   12|          Nonthaburi|        นนทบุรี|13.85080000000000...|\n",
            "|   13|        Pathum Thani|       ปทุมธานี|13.99642857142857...|\n",
            "|   14|Phra Nakhon Si Ay...|พระนครศรีอยุธยา|14.35542857142857...|\n",
            "|   15|           Ang Thong|        อ่างทอง|14.58299999999999...|\n",
            "|   16|            Lop Buri|         ลพบุรี|14.78020833333333...|\n",
            "|   17|           Sing Buri|      สิงห์บุรี|14.8995,100.40225...|\n",
            "|   18|            Chai Nat|         ชัยนาท|15.18855555555555...|\n",
            "|   19|            Saraburi|        สระบุรี|14.51227272727272...|\n",
            "|   20|           Chon Buri|         ชลบุรี|13.34883333333333...|\n",
            "|   21|              Rayong|          ระยอง|12.67957894736841...|\n",
            "|   22|         Chanthaburi|       จันทบุรี|12.59363636363636...|\n",
            "|   23|                Trat|           ตราด|12.22353846153846...|\n",
            "|   24|        Chachoengsao|     ฉะเชิงเทรา|13.71126315789473...|\n",
            "|   25|        Prachin Buri|     ปราจีนบุรี|14.07824999999999...|\n",
            "|   26|        Nakhon Nayok|        นครนายก|14.21728571428571...|\n",
            "|   27|             Sa kaeo|        สระแก้ว|   13.874125,102.073|\n",
            "|   30|   Nakhon Ratchasima|     นครราชสีมา|14.98143478260869...|\n",
            "|   31|            Buri Ram|      บุรีรัมย์|14.95968421052631...|\n",
            "+-----+--------------------+---------------+--------------------+\n",
            "only showing top 20 rows\n",
            "\n"
          ],
          "name": "stdout"
        }
      ]
    },
    {
      "cell_type": "code",
      "metadata": {
        "id": "4dMbmwp55aiE",
        "colab_type": "code",
        "colab": {}
      },
      "source": [
        "provinces = province_df.select('CHANGWAT_T').collect()"
      ],
      "execution_count": 0,
      "outputs": []
    },
    {
      "cell_type": "code",
      "metadata": {
        "id": "WHeUrcIR6E08",
        "colab_type": "code",
        "colab": {}
      },
      "source": [
        "list_provinces = [provinces[i][0] for i in range(len(provinces))]"
      ],
      "execution_count": 0,
      "outputs": []
    },
    {
      "cell_type": "markdown",
      "metadata": {
        "id": "ZrC4VIH8Q85f",
        "colab_type": "text"
      },
      "source": [
        "List ของชื่อจังหวัดที่จะนำมา JOIN ด้วย\n"
      ]
    },
    {
      "cell_type": "code",
      "metadata": {
        "id": "JgNeSF0U6Wqq",
        "colab_type": "code",
        "outputId": "6d0ae5bc-ffa1-4746-fe83-4dc3fa043914",
        "colab": {
          "base_uri": "https://localhost:8080/",
          "height": 185
        }
      },
      "source": [
        "list_provinces[:10]"
      ],
      "execution_count": 0,
      "outputs": [
        {
          "output_type": "execute_result",
          "data": {
            "text/plain": [
              "['กรุงเทพมหานคร',\n",
              " 'สมุทรปราการ',\n",
              " 'นนทบุรี',\n",
              " 'ปทุมธานี',\n",
              " 'พระนครศรีอยุธยา',\n",
              " 'อ่างทอง',\n",
              " 'ลพบุรี',\n",
              " 'สิงห์บุรี',\n",
              " 'ชัยนาท',\n",
              " 'สระบุรี']"
            ]
          },
          "metadata": {
            "tags": []
          },
          "execution_count": 29
        }
      ]
    },
    {
      "cell_type": "code",
      "metadata": {
        "id": "C35gqq1Z6YPt",
        "colab_type": "code",
        "outputId": "52a59749-ab57-45a3-d56f-6ee4f9e2dc3e",
        "colab": {
          "base_uri": "https://localhost:8080/",
          "height": 67
        }
      },
      "source": [
        "for province in list_covid19_provinces:\n",
        "  if province not in list_provinces:\n",
        "    print(province)"
      ],
      "execution_count": 0,
      "outputs": [
        {
          "output_type": "stream",
          "text": [
            "ไม่ระบุ\n",
            "None\n",
            "กทม\n"
          ],
          "name": "stdout"
        }
      ]
    },
    {
      "cell_type": "markdown",
      "metadata": {
        "id": "11GrMd8RO4Ys",
        "colab_type": "text"
      },
      "source": [
        "มีชื่อจังหวัดที่ไม่ตรงกัน 3 ชื่อ "
      ]
    },
    {
      "cell_type": "markdown",
      "metadata": {
        "id": "ibFdkEaQPxVA",
        "colab_type": "text"
      },
      "source": [
        "เลือกแก้เฉพาะชื่อ กทม เป็น กรุงเทพมหานคร ตามตารางที่จะ JOIN ด้วย"
      ]
    },
    {
      "cell_type": "code",
      "metadata": {
        "id": "29R5OSfp7Mdn",
        "colab_type": "code",
        "outputId": "e97220a3-cdb4-4a43-d767-134cd7c730d5",
        "colab": {
          "base_uri": "https://localhost:8080/",
          "height": 454
        }
      },
      "source": [
        "notNull_case_df.withColumn('edited_Province of onset', fn.when(notNull_case_df['Province of onset'] == 'กทม', 'กรุงเทพมหานคร').otherwise(notNull_case_df['Province of onset'])).show()"
      ],
      "execution_count": 0,
      "outputs": [
        {
          "output_type": "stream",
          "text": [
            "+---+----+----+-----------+---------------------+-----------------+-------------+-----------------+-----------------+------------------------+\n",
            "| no| age| sex|nationality|Province of isolation|Notification date|Announce Date|Province of onset|District of onset|edited_Province of onset|\n",
            "+---+----+----+-----------+---------------------+-----------------+-------------+-----------------+-----------------+------------------------+\n",
            "|  1|61.0|หญิง|        จีน|                  กทม|             null|     12-01-20|              กทม|             null|           กรุงเทพมหานคร|\n",
            "|  2|74.0|หญิง|        จีน|                  กทม|             null|     17-01-20|              กทม|             null|           กรุงเทพมหานคร|\n",
            "|  3|73.0|หญิง|        ไทย|               นครปฐม|             null|     22-01-20|           นครปฐม|            เมือง|                  นครปฐม|\n",
            "|  4|68.0| ชาย|        จีน|                  กทม|             null|     22-01-20|              กทม|             null|           กรุงเทพมหานคร|\n",
            "|  5|66.0|หญิง|        จีน|              นนทบุรี|             null|     24-01-20|              กทม|             null|           กรุงเทพมหานคร|\n",
            "|  6|33.0|หญิง|        จีน|                  กทม|             null|     25-01-20|              กทม|             null|           กรุงเทพมหานคร|\n",
            "|  7|57.0|หญิง|        จีน|                  กทม|             null|     26-01-20|              กทม|             null|           กรุงเทพมหานคร|\n",
            "|  8|73.0|หญิง|        จีน|      ประจวบคีรีขันธ์|             null|     26-01-20|  ประจวบคีรีขันธ์|           หัวหิน|         ประจวบคีรีขันธ์|\n",
            "|  9|63.0| ชาย|        จีน|                  กทม|             null|     28-01-20|              กทม|             null|           กรุงเทพมหานคร|\n",
            "| 10|28.0|หญิง|        จีน|              นนทบุรี|             null|     28-01-20|          นนทบุรี|             null|                 นนทบุรี|\n",
            "| 11|33.0| ชาย|        จีน|                  กทม|             null|     28-01-20|              กทม|             null|           กรุงเทพมหานคร|\n",
            "| 12|61.0| ชาย|        จีน|                  กทม|             null|     28-01-20|              กทม|             null|           กรุงเทพมหานคร|\n",
            "| 13| 6.0| ชาย|        จีน|                  กทม|             null|     28-01-20|              กทม|             null|           กรุงเทพมหานคร|\n",
            "| 14|32.0|หญิง|        จีน|               ภูเก็ต|             null|     28-01-20|           ภูเก็ต|            เมือง|                  ภูเก็ต|\n",
            "| 15|56.0| ชาย|        จีน|                  กทม|             null|     31-01-20|              กทม|             null|           กรุงเทพมหานคร|\n",
            "| 16|50.0| ชาย|        ไทย|                  กทม|             null|     31-01-20|              กทม|             null|           กรุงเทพมหานคร|\n",
            "| 17|28.0| ชาย|        จีน|            เชียงใหม่|             null|     31-01-20|        เชียงใหม่|             null|               เชียงใหม่|\n",
            "| 18|30.0| ชาย|        จีน|                  กทม|             null|     31-01-20|              กทม|             null|           กรุงเทพมหานคร|\n",
            "| 19|33.0| ชาย|        จีน|                  กทม|             null|     31-01-20|              กทม|             null|           กรุงเทพมหานคร|\n",
            "| 20|43.0|หญิง|        ไทย|                  กทม|             null|     04-02-20|              กทม|             null|           กรุงเทพมหานคร|\n",
            "+---+----+----+-----------+---------------------+-----------------+-------------+-----------------+-----------------+------------------------+\n",
            "only showing top 20 rows\n",
            "\n"
          ],
          "name": "stdout"
        }
      ]
    },
    {
      "cell_type": "code",
      "metadata": {
        "id": "2XT62B378EBp",
        "colab_type": "code",
        "outputId": "cfdd70db-e48c-445a-d309-5d63b18f5f3f",
        "colab": {
          "base_uri": "https://localhost:8080/",
          "height": 454
        }
      },
      "source": [
        "edited_case_df = notNull_case_df.withColumn('Province of onset', fn.when(notNull_case_df['Province of onset'] == 'กทม', 'กรุงเทพมหานคร').otherwise(notNull_case_df['Province of onset']))\n",
        "edited_case_df.show()"
      ],
      "execution_count": 0,
      "outputs": [
        {
          "output_type": "stream",
          "text": [
            "+---+----+----+-----------+---------------------+-----------------+-------------+-----------------+-----------------+\n",
            "| no| age| sex|nationality|Province of isolation|Notification date|Announce Date|Province of onset|District of onset|\n",
            "+---+----+----+-----------+---------------------+-----------------+-------------+-----------------+-----------------+\n",
            "|  1|61.0|หญิง|        จีน|                  กทม|             null|     12-01-20|    กรุงเทพมหานคร|             null|\n",
            "|  2|74.0|หญิง|        จีน|                  กทม|             null|     17-01-20|    กรุงเทพมหานคร|             null|\n",
            "|  3|73.0|หญิง|        ไทย|               นครปฐม|             null|     22-01-20|           นครปฐม|            เมือง|\n",
            "|  4|68.0| ชาย|        จีน|                  กทม|             null|     22-01-20|    กรุงเทพมหานคร|             null|\n",
            "|  5|66.0|หญิง|        จีน|              นนทบุรี|             null|     24-01-20|    กรุงเทพมหานคร|             null|\n",
            "|  6|33.0|หญิง|        จีน|                  กทม|             null|     25-01-20|    กรุงเทพมหานคร|             null|\n",
            "|  7|57.0|หญิง|        จีน|                  กทม|             null|     26-01-20|    กรุงเทพมหานคร|             null|\n",
            "|  8|73.0|หญิง|        จีน|      ประจวบคีรีขันธ์|             null|     26-01-20|  ประจวบคีรีขันธ์|           หัวหิน|\n",
            "|  9|63.0| ชาย|        จีน|                  กทม|             null|     28-01-20|    กรุงเทพมหานคร|             null|\n",
            "| 10|28.0|หญิง|        จีน|              นนทบุรี|             null|     28-01-20|          นนทบุรี|             null|\n",
            "| 11|33.0| ชาย|        จีน|                  กทม|             null|     28-01-20|    กรุงเทพมหานคร|             null|\n",
            "| 12|61.0| ชาย|        จีน|                  กทม|             null|     28-01-20|    กรุงเทพมหานคร|             null|\n",
            "| 13| 6.0| ชาย|        จีน|                  กทม|             null|     28-01-20|    กรุงเทพมหานคร|             null|\n",
            "| 14|32.0|หญิง|        จีน|               ภูเก็ต|             null|     28-01-20|           ภูเก็ต|            เมือง|\n",
            "| 15|56.0| ชาย|        จีน|                  กทม|             null|     31-01-20|    กรุงเทพมหานคร|             null|\n",
            "| 16|50.0| ชาย|        ไทย|                  กทม|             null|     31-01-20|    กรุงเทพมหานคร|             null|\n",
            "| 17|28.0| ชาย|        จีน|            เชียงใหม่|             null|     31-01-20|        เชียงใหม่|             null|\n",
            "| 18|30.0| ชาย|        จีน|                  กทม|             null|     31-01-20|    กรุงเทพมหานคร|             null|\n",
            "| 19|33.0| ชาย|        จีน|                  กทม|             null|     31-01-20|    กรุงเทพมหานคร|             null|\n",
            "| 20|43.0|หญิง|        ไทย|                  กทม|             null|     04-02-20|    กรุงเทพมหานคร|             null|\n",
            "+---+----+----+-----------+---------------------+-----------------+-------------+-----------------+-----------------+\n",
            "only showing top 20 rows\n",
            "\n"
          ],
          "name": "stdout"
        }
      ]
    },
    {
      "cell_type": "markdown",
      "metadata": {
        "id": "VZSG02HlQdIT",
        "colab_type": "text"
      },
      "source": [
        "เลือกเฉพาะ column ที่ต้องการใช้"
      ]
    },
    {
      "cell_type": "code",
      "metadata": {
        "id": "uUYTvMib8bbt",
        "colab_type": "code",
        "colab": {}
      },
      "source": [
        "final_df = edited_case_df.select('no', 'age', 'sex', 'nationality',\n",
        "                                 edited_case_df['Announce Date'].alias('date'), \n",
        "                                 edited_case_df['Province of onset'].alias('province'))"
      ],
      "execution_count": 0,
      "outputs": []
    },
    {
      "cell_type": "markdown",
      "metadata": {
        "id": "3lnoncpoXkJe",
        "colab_type": "text"
      },
      "source": [
        "#Final\n"
      ]
    },
    {
      "cell_type": "code",
      "metadata": {
        "id": "1hP7SYs-LfmV",
        "colab_type": "code",
        "outputId": "eb2f21f3-c0b8-44f9-bd71-c650116cb0b2",
        "colab": {
          "base_uri": "https://localhost:8080/",
          "height": 454
        }
      },
      "source": [
        "final_df.show()"
      ],
      "execution_count": 0,
      "outputs": [
        {
          "output_type": "stream",
          "text": [
            "+---+----+----+-----------+--------+---------------+\n",
            "| no| age| sex|nationality|    date|       province|\n",
            "+---+----+----+-----------+--------+---------------+\n",
            "|  1|61.0|หญิง|        จีน|12-01-20|  กรุงเทพมหานคร|\n",
            "|  2|74.0|หญิง|        จีน|17-01-20|  กรุงเทพมหานคร|\n",
            "|  3|73.0|หญิง|        ไทย|22-01-20|         นครปฐม|\n",
            "|  4|68.0| ชาย|        จีน|22-01-20|  กรุงเทพมหานคร|\n",
            "|  5|66.0|หญิง|        จีน|24-01-20|  กรุงเทพมหานคร|\n",
            "|  6|33.0|หญิง|        จีน|25-01-20|  กรุงเทพมหานคร|\n",
            "|  7|57.0|หญิง|        จีน|26-01-20|  กรุงเทพมหานคร|\n",
            "|  8|73.0|หญิง|        จีน|26-01-20|ประจวบคีรีขันธ์|\n",
            "|  9|63.0| ชาย|        จีน|28-01-20|  กรุงเทพมหานคร|\n",
            "| 10|28.0|หญิง|        จีน|28-01-20|        นนทบุรี|\n",
            "| 11|33.0| ชาย|        จีน|28-01-20|  กรุงเทพมหานคร|\n",
            "| 12|61.0| ชาย|        จีน|28-01-20|  กรุงเทพมหานคร|\n",
            "| 13| 6.0| ชาย|        จีน|28-01-20|  กรุงเทพมหานคร|\n",
            "| 14|32.0|หญิง|        จีน|28-01-20|         ภูเก็ต|\n",
            "| 15|56.0| ชาย|        จีน|31-01-20|  กรุงเทพมหานคร|\n",
            "| 16|50.0| ชาย|        ไทย|31-01-20|  กรุงเทพมหานคร|\n",
            "| 17|28.0| ชาย|        จีน|31-01-20|      เชียงใหม่|\n",
            "| 18|30.0| ชาย|        จีน|31-01-20|  กรุงเทพมหานคร|\n",
            "| 19|33.0| ชาย|        จีน|31-01-20|  กรุงเทพมหานคร|\n",
            "| 20|43.0|หญิง|        ไทย|04-02-20|  กรุงเทพมหานคร|\n",
            "+---+----+----+-----------+--------+---------------+\n",
            "only showing top 20 rows\n",
            "\n"
          ],
          "name": "stdout"
        }
      ]
    },
    {
      "cell_type": "code",
      "metadata": {
        "id": "IdRyZlqm81nR",
        "colab_type": "code",
        "outputId": "3f0c7152-426e-451f-a1da-76eca47d853a",
        "colab": {
          "base_uri": "https://localhost:8080/",
          "height": 34
        }
      },
      "source": [
        "final_df.select('no').count()"
      ],
      "execution_count": 0,
      "outputs": [
        {
          "output_type": "execute_result",
          "data": {
            "text/plain": [
              "2947"
            ]
          },
          "metadata": {
            "tags": []
          },
          "execution_count": 39
        }
      ]
    },
    {
      "cell_type": "code",
      "metadata": {
        "id": "YkfKu7W_o8fn",
        "colab_type": "code",
        "colab": {}
      },
      "source": [
        "final_df.coalesce(1).write.csv('/content/drive/My Drive/Project/Covid19/single_covid19_data.csv', header=True)"
      ],
      "execution_count": 0,
      "outputs": []
    },
    {
      "cell_type": "markdown",
      "metadata": {
        "id": "LrJ_dc-nQlS5",
        "colab_type": "text"
      },
      "source": [
        "#Load to BiqQuery"
      ]
    },
    {
      "cell_type": "markdown",
      "metadata": {
        "id": "SuKA40Hw2djN",
        "colab_type": "text"
      },
      "source": [
        "JOIN ข้อมูล Covid19 กับ Latitude, Longtitude ตามจังหวัด โดยใช้ Spark SQL"
      ]
    },
    {
      "cell_type": "code",
      "metadata": {
        "id": "CxsK3_Bq9LtF",
        "colab_type": "code",
        "colab": {}
      },
      "source": [
        "final_df.createOrReplaceTempView('covid19_data')"
      ],
      "execution_count": 0,
      "outputs": []
    },
    {
      "cell_type": "code",
      "metadata": {
        "id": "iCBQ7-mAzRau",
        "colab_type": "code",
        "colab": {}
      },
      "source": [
        "province_df.createOrReplaceTempView('th_provinces')"
      ],
      "execution_count": 0,
      "outputs": []
    },
    {
      "cell_type": "code",
      "metadata": {
        "id": "ZyPhgaIlz0w5",
        "colab_type": "code",
        "outputId": "d6ff8433-b1ad-4f36-a8ab-59a8407827e3",
        "colab": {
          "base_uri": "https://localhost:8080/",
          "height": 454
        }
      },
      "source": [
        "dataset = spark.sql('SELECT p.CHANGWAT_T province, count(c.no) case_count, p.LAT_LONG lat_long \\\n",
        "          FROM covid19_data c \\\n",
        "          RIGHT JOIN th_provinces p \\\n",
        "          ON c.province == p.CHANGWAT_T \\\n",
        "          GROUP BY p.CHANGWAT_T, p.LAT_LONG \\\n",
        "          ORDER BY case_count desc, province')\n",
        "dataset.show()"
      ],
      "execution_count": 0,
      "outputs": [
        {
          "output_type": "stream",
          "text": [
            "+---------------+----------+--------------------+\n",
            "|       province|case_count|            lat_long|\n",
            "+---------------+----------+--------------------+\n",
            "|  กรุงเทพมหานคร|      1477|13.75614285714286...|\n",
            "|         ภูเก็ต|       216|7.800833333333332...|\n",
            "|        นนทบุรี|       144|13.85080000000000...|\n",
            "|    สมุทรปราการ|       118|13.587,100.629384...|\n",
            "|           ยะลา|       116|6.547214285714285...|\n",
            "|          สงขลา|        98|7.138857142857144...|\n",
            "|        ปัตตานี|        93|6.854461538461539...|\n",
            "|         ชลบุรี|        84|13.34883333333333...|\n",
            "|      เชียงใหม่|        40|18.78853333333334...|\n",
            "|       ปทุมธานี|        37|13.99642857142857...|\n",
            "|       นราธิวาส|        33|6.387857142857142...|\n",
            "|     ฉะเชิงเทรา|        21|13.71126315789473...|\n",
            "|          ชุมพร|        21|10.44655882352941...|\n",
            "|         นครปฐม|        21|13.82192,100.0324...|\n",
            "|         กระบี่|        19|8.053903225806451...|\n",
            "|           สตูล|        19|6.617406249999999...|\n",
            "|     นครราชสีมา|        18|14.98143478260869...|\n",
            "|  นครศรีธรรมราช|        18|8.430499999999999...|\n",
            "|   สุราษฎร์ธานี|        18|9.128727272727273...|\n",
            "|ประจวบคีรีขันธ์|        17|11.82966666666666...|\n",
            "+---------------+----------+--------------------+\n",
            "only showing top 20 rows\n",
            "\n"
          ],
          "name": "stdout"
        }
      ]
    },
    {
      "cell_type": "code",
      "metadata": {
        "id": "QhRyk2x_8r-e",
        "colab_type": "code",
        "outputId": "7b3e3c98-08fe-47e4-d3b0-c6df07b64527",
        "colab": {
          "base_uri": "https://localhost:8080/",
          "height": 34
        }
      },
      "source": [
        "dataset.count()"
      ],
      "execution_count": 0,
      "outputs": [
        {
          "output_type": "execute_result",
          "data": {
            "text/plain": [
              "77"
            ]
          },
          "metadata": {
            "tags": []
          },
          "execution_count": 84
        }
      ]
    },
    {
      "cell_type": "code",
      "metadata": {
        "id": "0LZ6uamO-QVg",
        "colab_type": "code",
        "colab": {}
      },
      "source": [
        "dataset.coalesce(1).write.csv('./THCovid19_Data.csv', header=True)"
      ],
      "execution_count": 0,
      "outputs": []
    },
    {
      "cell_type": "markdown",
      "metadata": {
        "id": "fB1de5auL419",
        "colab_type": "text"
      },
      "source": [
        "เข้าใช้ GCP ด้วย CLI"
      ]
    },
    {
      "cell_type": "code",
      "metadata": {
        "id": "n3p2RoeU4YTk",
        "colab_type": "code",
        "colab": {}
      },
      "source": [
        "! gcloud auth login"
      ],
      "execution_count": 0,
      "outputs": []
    },
    {
      "cell_type": "code",
      "metadata": {
        "id": "PW_mRKsZ4wJy",
        "colab_type": "code",
        "outputId": "a082531f-0efb-44f6-8a31-076338aed73c",
        "colab": {
          "base_uri": "https://localhost:8080/",
          "height": 34
        }
      },
      "source": [
        "! gcloud config set project cobalt-bond-272904"
      ],
      "execution_count": 0,
      "outputs": [
        {
          "output_type": "stream",
          "text": [
            "Updated property [core/project].\n"
          ],
          "name": "stdout"
        }
      ]
    },
    {
      "cell_type": "code",
      "metadata": {
        "id": "Qs-NB6Ry_svo",
        "colab_type": "code",
        "outputId": "b4fb36bd-54ca-49ad-fbbe-27e1e818ae44",
        "colab": {
          "base_uri": "https://localhost:8080/",
          "height": 67
        }
      },
      "source": [
        "! gsutil cp ./THCovid19_Data.csv/part-00000-5b79104b-e2d2-408a-a7a6-6335fab29deb-c000.csv gs://thanavi_project_data"
      ],
      "execution_count": 0,
      "outputs": [
        {
          "output_type": "stream",
          "text": [
            "Copying file://./THCovid19_Data.csv/part-00000-5b79104b-e2d2-408a-a7a6-6335fab29deb-c000.csv [Content-Type=text/csv]...\n",
            "/ [1 files][  4.7 KiB/  4.7 KiB]                                                \n",
            "Operation completed over 1 objects/4.7 KiB.                                      \n"
          ],
          "name": "stdout"
        }
      ]
    },
    {
      "cell_type": "code",
      "metadata": {
        "id": "RPnO0lufBUci",
        "colab_type": "code",
        "outputId": "030200ac-5500-49db-e987-65a092e4b92f",
        "colab": {
          "base_uri": "https://localhost:8080/",
          "height": 84
        }
      },
      "source": [
        "! gsutil mv gs://thanavi_project_data/part-00000-5b79104b-e2d2-408a-a7a6-6335fab29deb-c000.csv gs://thanavi_project_data/THCovid19_Data.csv"
      ],
      "execution_count": 0,
      "outputs": [
        {
          "output_type": "stream",
          "text": [
            "Copying gs://thanavi_project_data/part-00000-5b79104b-e2d2-408a-a7a6-6335fab29deb-c000.csv [Content-Type=text/csv]...\n",
            "Removing gs://thanavi_project_data/part-00000-5b79104b-e2d2-408a-a7a6-6335fab29deb-c000.csv...\n",
            "\n",
            "Operation completed over 1 objects/4.7 KiB.                                      \n"
          ],
          "name": "stdout"
        }
      ]
    },
    {
      "cell_type": "code",
      "metadata": {
        "id": "beJefSgeBsXj",
        "colab_type": "code",
        "outputId": "7d0f63c9-443d-44b5-db21-918312d7df6c",
        "colab": {
          "base_uri": "https://localhost:8080/",
          "height": 34
        }
      },
      "source": [
        "! gsutil ls gs://thanavi_project_data"
      ],
      "execution_count": 0,
      "outputs": [
        {
          "output_type": "stream",
          "text": [
            "gs://thanavi_project_data/THCovid19_Data.csv\n"
          ],
          "name": "stdout"
        }
      ]
    },
    {
      "cell_type": "code",
      "metadata": {
        "id": "iTJR6Jeo5HaE",
        "colab_type": "code",
        "outputId": "58e41cb4-ae34-40cc-eb00-66f4eec85edd",
        "colab": {
          "base_uri": "https://localhost:8080/",
          "height": 84
        }
      },
      "source": [
        "! bq ls"
      ],
      "execution_count": 0,
      "outputs": [
        {
          "output_type": "stream",
          "text": [
            "     datasetId     \n",
            " ----------------- \n",
            "  Starbuck_Stores  \n",
            "  covid19          \n"
          ],
          "name": "stdout"
        }
      ]
    },
    {
      "cell_type": "code",
      "metadata": {
        "id": "gw2sAvI_5YwI",
        "colab_type": "code",
        "outputId": "798369e5-9348-41d1-e755-1710d810291d",
        "colab": {
          "base_uri": "https://localhost:8080/",
          "height": 34
        }
      },
      "source": [
        "! bq load --autodetect covid19.THCovid19_Data gs://thanavi_project_data/THCovid19_Data.csv"
      ],
      "execution_count": 0,
      "outputs": [
        {
          "output_type": "stream",
          "text": [
            "Waiting on bqjob_r274ea28a9dde1fab_00000171da10d348_1 ... (5s) Current status: DONE   \n"
          ],
          "name": "stdout"
        }
      ]
    },
    {
      "cell_type": "code",
      "metadata": {
        "id": "UxFUf3i75ksD",
        "colab_type": "code",
        "outputId": "39225356-890a-474d-b3ed-ba44558a3c7b",
        "colab": {
          "base_uri": "https://localhost:8080/",
          "height": 252
        }
      },
      "source": [
        "! bq head -n 10 covid19.THCovid19_Data"
      ],
      "execution_count": 0,
      "outputs": [
        {
          "output_type": "stream",
          "text": [
            "+---------------+------------+---------------------------------------+\n",
            "|   province    | case_count |               lat_long                |\n",
            "+---------------+------------+---------------------------------------+\n",
            "| กรุงเทพมหานคร |       1477 | 13.75614285714286,100.475             |\n",
            "| ภูเก็ต        |        216 | 7.800833333333332,98.36491666666666   |\n",
            "| นนทบุรี       |        144 | 13.850800000000003,100.48519999999999 |\n",
            "| สมุทรปราการ   |        118 | 13.587,100.62938461538464             |\n",
            "| ยะลา          |        116 | 6.547214285714285,101.2362142857143   |\n",
            "| สงขลา         |         98 | 7.138857142857144,100.59285714285714  |\n",
            "| ปัตตานี       |         93 | 6.854461538461539,101.27084615384615  |\n",
            "| ชลบุรี        |         84 | 13.348833333333333,100.98783333333336 |\n",
            "| เชียงใหม่     |         40 | 18.78853333333334,98.99420000000002   |\n",
            "| ปทุมธานี      |         37 | 13.996428571428572,100.5409285714286  |\n",
            "+---------------+------------+---------------------------------------+\n"
          ],
          "name": "stdout"
        }
      ]
    },
    {
      "cell_type": "code",
      "metadata": {
        "id": "L7Tberg6E_oW",
        "colab_type": "code",
        "colab": {}
      },
      "source": [
        ""
      ],
      "execution_count": 0,
      "outputs": []
    }
  ]
}