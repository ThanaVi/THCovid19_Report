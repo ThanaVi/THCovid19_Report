{
  "nbformat": 4,
  "nbformat_minor": 0,
  "metadata": {
    "colab": {
      "name": "ETL_THCovid19_Sum",
      "provenance": [],
      "toc_visible": true,
      "mount_file_id": "1ypdBASkCsHhRr95qLCxP8Y_YdEyG-4JM",
      "authorship_tag": "ABX9TyNdQlG75TRkA5Q9E7H6Iy0r",
      "include_colab_link": true
    },
    "kernelspec": {
      "name": "python3",
      "display_name": "Python 3"
    }
  },
  "cells": [
    {
      "cell_type": "markdown",
      "metadata": {
        "id": "view-in-github",
        "colab_type": "text"
      },
      "source": [
        "<a href=\"https://colab.research.google.com/github/ThanaVi/THCovid19_Report/blob/master/ETL_THCovid19_Sum.ipynb\" target=\"_parent\"><img src=\"https://colab.research.google.com/assets/colab-badge.svg\" alt=\"Open In Colab\"/></a>"
      ]
    },
    {
      "cell_type": "markdown",
      "metadata": {
        "id": "qrPOIsA6YCCj",
        "colab_type": "text"
      },
      "source": [
        "# Target\n",
        "\n",
        "1. จำนวนผู้ป่วย Covid19 จากข้อมูลผู้ป่วย Covid19 ที่เตรียมไว้\n",
        "2. นำข้อมูลโหลดเข้า BigQuery"
      ]
    },
    {
      "cell_type": "markdown",
      "metadata": {
        "id": "NVJUh6KUocdE",
        "colab_type": "text"
      },
      "source": [
        "#Result\n",
        "\n",
        "ข้อมูลจาก Source\n",
        "![alt text](https://drive.google.com/uc?id=1kIi-suj7SuI0R9yBTCfgHvFxQqT_pSPt)\n",
        "\n",
        "ข้อมูลที่ได้จาก Transformation\n",
        "![alt text](https://drive.google.com/uc?id=1wfI2JRsBVawv8Ho6fMHs8pZlVvdDd26e)\n",
        "\n"
      ]
    },
    {
      "cell_type": "markdown",
      "metadata": {
        "id": "62D5ciS1ZSZI",
        "colab_type": "text"
      },
      "source": [
        "#Install Pyspark\n"
      ]
    },
    {
      "cell_type": "code",
      "metadata": {
        "id": "WwfQKZmXTwc6",
        "colab_type": "code",
        "colab": {}
      },
      "source": [
        "!apt-get install openjdk-8-jdk-headless -qq > /dev/null\n",
        "!wget -q https://downloads.apache.org/spark/spark-2.4.5/spark-2.4.5-bin-hadoop2.7.tgz\n",
        "!tar xzvf spark-2.4.5-bin-hadoop2.7.tgz\n",
        "!pip install -q findspark\n",
        "\n",
        "import os\n",
        "os.environ[\"JAVA_HOME\"] = \"/usr/lib/jvm/java-8-openjdk-amd64\"\n",
        "os.environ[\"SPARK_HOME\"] = \"/content/spark-2.4.5-bin-hadoop2.7\"\n",
        "\n",
        "!pip install pyspark"
      ],
      "execution_count": 0,
      "outputs": []
    },
    {
      "cell_type": "code",
      "metadata": {
        "id": "zEcJToxQZUp4",
        "colab_type": "code",
        "colab": {}
      },
      "source": [
        ""
      ],
      "execution_count": 0,
      "outputs": []
    },
    {
      "cell_type": "markdown",
      "metadata": {
        "id": "OuiyiWtOZ0A1",
        "colab_type": "text"
      },
      "source": [
        "# Import library"
      ]
    },
    {
      "cell_type": "code",
      "metadata": {
        "id": "8Ae15kkZZy7h",
        "colab_type": "code",
        "colab": {}
      },
      "source": [
        "from pyspark.sql import SparkSession, Row, functions as fn\n",
        "from pyspark.sql.window import Window\n",
        "\n",
        "import pandas as pd"
      ],
      "execution_count": 0,
      "outputs": []
    },
    {
      "cell_type": "markdown",
      "metadata": {
        "id": "tVc-7zf2aHpx",
        "colab_type": "text"
      },
      "source": [
        "# Create spark session"
      ]
    },
    {
      "cell_type": "code",
      "metadata": {
        "id": "q_t34braZ4Od",
        "colab_type": "code",
        "outputId": "cefa7fbf-fe00-4872-ff50-a7b18de15276",
        "colab": {
          "base_uri": "https://localhost:8080/",
          "height": 214
        }
      },
      "source": [
        "spark = SparkSession.builder.master(\"local[*]\").getOrCreate()\n",
        "spark"
      ],
      "execution_count": 0,
      "outputs": [
        {
          "output_type": "execute_result",
          "data": {
            "text/html": [
              "\n",
              "            <div>\n",
              "                <p><b>SparkSession - in-memory</b></p>\n",
              "                \n",
              "        <div>\n",
              "            <p><b>SparkContext</b></p>\n",
              "\n",
              "            <p><a href=\"http://5a373fd13a2a:4040\">Spark UI</a></p>\n",
              "\n",
              "            <dl>\n",
              "              <dt>Version</dt>\n",
              "                <dd><code>v2.4.5</code></dd>\n",
              "              <dt>Master</dt>\n",
              "                <dd><code>local[*]</code></dd>\n",
              "              <dt>AppName</dt>\n",
              "                <dd><code>pyspark-shell</code></dd>\n",
              "            </dl>\n",
              "        </div>\n",
              "        \n",
              "            </div>\n",
              "        "
            ],
            "text/plain": [
              "<pyspark.sql.session.SparkSession at 0x7f006db37f28>"
            ]
          },
          "metadata": {
            "tags": []
          },
          "execution_count": 3
        }
      ]
    },
    {
      "cell_type": "markdown",
      "metadata": {
        "id": "lpdSSB5UaPpe",
        "colab_type": "text"
      },
      "source": [
        "# Extract"
      ]
    },
    {
      "cell_type": "markdown",
      "metadata": {
        "id": "TiR0DFsqdNMw",
        "colab_type": "text"
      },
      "source": [
        "ข้อมูลที่ใช้มาจากการทำ ETL ที่ https://colab.research.google.com/drive/145h5YYKzitwuB6uR-LcNFkiIZUGHiK_N?usp=sharing"
      ]
    },
    {
      "cell_type": "code",
      "metadata": {
        "id": "bQpGkK3NaKda",
        "colab_type": "code",
        "outputId": "b1b66d23-fef0-47a7-f418-568d1a64ba2f",
        "colab": {
          "base_uri": "https://localhost:8080/",
          "height": 454
        }
      },
      "source": [
        "covid19_df = spark.read.csv('/content/drive/My Drive/Project/Covid19/single_covid19_data.csv/part-00000-6916f067-9e47-48aa-8d4c-86a4c2571a16-c000.csv', header=True, inferSchema=True)\n",
        "covid19_df.show()"
      ],
      "execution_count": 0,
      "outputs": [
        {
          "output_type": "stream",
          "text": [
            "+---+----+----+-----------+-------------+-----------------+\n",
            "| no| age| sex|nationality|Announce Date|Province of onset|\n",
            "+---+----+----+-----------+-------------+-----------------+\n",
            "|  1|61.0|หญิง|        จีน|     12-01-20|    กรุงเทพมหานคร|\n",
            "|  2|74.0|หญิง|        จีน|     17-01-20|    กรุงเทพมหานคร|\n",
            "|  3|73.0|หญิง|        ไทย|     22-01-20|           นครปฐม|\n",
            "|  4|68.0| ชาย|        จีน|     22-01-20|    กรุงเทพมหานคร|\n",
            "|  5|66.0|หญิง|        จีน|     24-01-20|    กรุงเทพมหานคร|\n",
            "|  6|33.0|หญิง|        จีน|     25-01-20|    กรุงเทพมหานคร|\n",
            "|  7|57.0|หญิง|        จีน|     26-01-20|    กรุงเทพมหานคร|\n",
            "|  8|73.0|หญิง|        จีน|     26-01-20|  ประจวบคีรีขันธ์|\n",
            "|  9|63.0| ชาย|        จีน|     28-01-20|    กรุงเทพมหานคร|\n",
            "| 10|28.0|หญิง|        จีน|     28-01-20|          นนทบุรี|\n",
            "| 11|33.0| ชาย|        จีน|     28-01-20|    กรุงเทพมหานคร|\n",
            "| 12|61.0| ชาย|        จีน|     28-01-20|    กรุงเทพมหานคร|\n",
            "| 13| 6.0| ชาย|        จีน|     28-01-20|    กรุงเทพมหานคร|\n",
            "| 14|32.0|หญิง|        จีน|     28-01-20|           ภูเก็ต|\n",
            "| 15|56.0| ชาย|        จีน|     31-01-20|    กรุงเทพมหานคร|\n",
            "| 16|50.0| ชาย|        ไทย|     31-01-20|    กรุงเทพมหานคร|\n",
            "| 17|28.0| ชาย|        จีน|     31-01-20|        เชียงใหม่|\n",
            "| 18|30.0| ชาย|        จีน|     31-01-20|    กรุงเทพมหานคร|\n",
            "| 19|33.0| ชาย|        จีน|     31-01-20|    กรุงเทพมหานคร|\n",
            "| 20|43.0|หญิง|        ไทย|     04-02-20|    กรุงเทพมหานคร|\n",
            "+---+----+----+-----------+-------------+-----------------+\n",
            "only showing top 20 rows\n",
            "\n"
          ],
          "name": "stdout"
        }
      ]
    },
    {
      "cell_type": "code",
      "metadata": {
        "id": "-ihLuqBHawLb",
        "colab_type": "code",
        "outputId": "9dae587b-efc3-4e05-a18e-f5ad1fc5652c",
        "colab": {
          "base_uri": "https://localhost:8080/",
          "height": 34
        }
      },
      "source": [
        "covid19_df.count()"
      ],
      "execution_count": 0,
      "outputs": [
        {
          "output_type": "execute_result",
          "data": {
            "text/plain": [
              "2947"
            ]
          },
          "metadata": {
            "tags": []
          },
          "execution_count": 31
        }
      ]
    },
    {
      "cell_type": "markdown",
      "metadata": {
        "id": "1jeRU9XEoAef",
        "colab_type": "text"
      },
      "source": [
        "#Transform\n"
      ]
    },
    {
      "cell_type": "markdown",
      "metadata": {
        "id": "rV5UbdbIefTB",
        "colab_type": "text"
      },
      "source": [
        "นับจำนวนผู้ป่วยต่อวัน"
      ]
    },
    {
      "cell_type": "code",
      "metadata": {
        "id": "XhUUv05-azps",
        "colab_type": "code",
        "outputId": "e704b0b8-1948-4690-e709-b72725e51347",
        "colab": {
          "base_uri": "https://localhost:8080/",
          "height": 454
        }
      },
      "source": [
        "count_covid19_df = covid19_df.groupBy('Announce Date').count()\n",
        "count_covid19_df.show()"
      ],
      "execution_count": 0,
      "outputs": [
        {
          "output_type": "stream",
          "text": [
            "+-------------+-----+\n",
            "|Announce Date|count|\n",
            "+-------------+-----+\n",
            "|     17-04-20|   28|\n",
            "|     05-04-20|  102|\n",
            "|     27-04-20|    9|\n",
            "|     28-01-20|    6|\n",
            "|     03-04-20|  103|\n",
            "|     28-02-20|    1|\n",
            "|     27-03-20|   91|\n",
            "|     12-04-20|   33|\n",
            "|     24-01-20|    1|\n",
            "|     07-03-20|    2|\n",
            "|     11-03-20|    6|\n",
            "|     12-01-20|    1|\n",
            "|     11-02-20|    1|\n",
            "|     20-03-20|   50|\n",
            "|     26-04-20|   15|\n",
            "|     06-04-20|   51|\n",
            "|     18-03-20|   35|\n",
            "|     06-03-20|    1|\n",
            "|     15-04-20|   30|\n",
            "|     13-03-20|    3|\n",
            "+-------------+-----+\n",
            "only showing top 20 rows\n",
            "\n"
          ],
          "name": "stdout"
        }
      ]
    },
    {
      "cell_type": "markdown",
      "metadata": {
        "id": "B49mmR-Heixn",
        "colab_type": "text"
      },
      "source": [
        "เปลี่ยน Format วันที่ เพื่อใช้เรียงลำดับตามวัน"
      ]
    },
    {
      "cell_type": "code",
      "metadata": {
        "id": "1aZXDhAwsFG3",
        "colab_type": "code",
        "outputId": "9848fce1-81ff-4fec-bdec-401134bee7c1",
        "colab": {
          "base_uri": "https://localhost:8080/",
          "height": 454
        }
      },
      "source": [
        "newDate_count_covid19_df = count_covid19_df.withColumn('date', fn.unix_timestamp('Announce Date', 'dd-MM-yy').cast('timestamp'))\n",
        "newDate_count_covid19_df.show()"
      ],
      "execution_count": 0,
      "outputs": [
        {
          "output_type": "stream",
          "text": [
            "+-------------+-----+-------------------+\n",
            "|Announce Date|count|               date|\n",
            "+-------------+-----+-------------------+\n",
            "|     17-04-20|   28|2020-04-17 00:00:00|\n",
            "|     05-04-20|  102|2020-04-05 00:00:00|\n",
            "|     27-04-20|    9|2020-04-27 00:00:00|\n",
            "|     28-01-20|    6|2020-01-28 00:00:00|\n",
            "|     03-04-20|  103|2020-04-03 00:00:00|\n",
            "|     28-02-20|    1|2020-02-28 00:00:00|\n",
            "|     27-03-20|   91|2020-03-27 00:00:00|\n",
            "|     12-04-20|   33|2020-04-12 00:00:00|\n",
            "|     24-01-20|    1|2020-01-24 00:00:00|\n",
            "|     07-03-20|    2|2020-03-07 00:00:00|\n",
            "|     11-03-20|    6|2020-03-11 00:00:00|\n",
            "|     12-01-20|    1|2020-01-12 00:00:00|\n",
            "|     11-02-20|    1|2020-02-11 00:00:00|\n",
            "|     20-03-20|   50|2020-03-20 00:00:00|\n",
            "|     26-04-20|   15|2020-04-26 00:00:00|\n",
            "|     06-04-20|   51|2020-04-06 00:00:00|\n",
            "|     18-03-20|   35|2020-03-18 00:00:00|\n",
            "|     06-03-20|    1|2020-03-06 00:00:00|\n",
            "|     15-04-20|   30|2020-04-15 00:00:00|\n",
            "|     13-03-20|    3|2020-03-13 00:00:00|\n",
            "+-------------+-----+-------------------+\n",
            "only showing top 20 rows\n",
            "\n"
          ],
          "name": "stdout"
        }
      ]
    },
    {
      "cell_type": "code",
      "metadata": {
        "id": "XGBrRweptseG",
        "colab_type": "code",
        "outputId": "397e0628-ccda-4194-e988-41ca454f63bf",
        "colab": {
          "base_uri": "https://localhost:8080/",
          "height": 454
        }
      },
      "source": [
        "ordered_df = newDate_count_covid19_df.select('date', 'count').orderBy('date')\n",
        "ordered_df.show()"
      ],
      "execution_count": 0,
      "outputs": [
        {
          "output_type": "stream",
          "text": [
            "+-------------------+-----+\n",
            "|               date|count|\n",
            "+-------------------+-----+\n",
            "|2020-01-12 00:00:00|    1|\n",
            "|2020-01-17 00:00:00|    1|\n",
            "|2020-01-22 00:00:00|    2|\n",
            "|2020-01-24 00:00:00|    1|\n",
            "|2020-01-25 00:00:00|    1|\n",
            "|2020-01-26 00:00:00|    2|\n",
            "|2020-01-28 00:00:00|    6|\n",
            "|2020-01-31 00:00:00|    5|\n",
            "|2020-02-04 00:00:00|    6|\n",
            "|2020-02-08 00:00:00|    7|\n",
            "|2020-02-11 00:00:00|    1|\n",
            "|2020-02-15 00:00:00|    1|\n",
            "|2020-02-17 00:00:00|    1|\n",
            "|2020-02-25 00:00:00|    2|\n",
            "|2020-02-26 00:00:00|    3|\n",
            "|2020-02-28 00:00:00|    1|\n",
            "|2020-02-29 00:00:00|    1|\n",
            "|2020-03-02 00:00:00|    1|\n",
            "|2020-03-05 00:00:00|    4|\n",
            "|2020-03-06 00:00:00|    1|\n",
            "+-------------------+-----+\n",
            "only showing top 20 rows\n",
            "\n"
          ],
          "name": "stdout"
        }
      ]
    },
    {
      "cell_type": "markdown",
      "metadata": {
        "id": "75qG6QZBezcb",
        "colab_type": "text"
      },
      "source": [
        "จะเห็นว่าวันที่ไม่ต่อเนื่องกัน จึงได้เพิ่มวันที่ที่หายไป โดยใช้ Pandas  "
      ]
    },
    {
      "cell_type": "code",
      "metadata": {
        "id": "K2trtUiyFhjJ",
        "colab_type": "code",
        "outputId": "af885352-1de4-43d8-ac00-2db24094ae1a",
        "colab": {
          "base_uri": "https://localhost:8080/",
          "height": 34
        }
      },
      "source": [
        "ordered_df.collect()[-1][0]"
      ],
      "execution_count": 0,
      "outputs": [
        {
          "output_type": "execute_result",
          "data": {
            "text/plain": [
              "datetime.datetime(2020, 4, 29, 0, 0)"
            ]
          },
          "metadata": {
            "tags": []
          },
          "execution_count": 165
        }
      ]
    },
    {
      "cell_type": "code",
      "metadata": {
        "id": "QhfX-vVTEkmO",
        "colab_type": "code",
        "colab": {}
      },
      "source": [
        "start_date = ordered_df.collect()[0][0]\n",
        "end_date = ordered_df.collect()[-1][0]"
      ],
      "execution_count": 0,
      "outputs": []
    },
    {
      "cell_type": "code",
      "metadata": {
        "id": "VL25L7SGLd3r",
        "colab_type": "code",
        "outputId": "fe215122-1be9-42bc-d570-45ae19390ecb",
        "colab": {
          "base_uri": "https://localhost:8080/",
          "height": 34
        }
      },
      "source": [
        "start_date, end_date"
      ],
      "execution_count": 0,
      "outputs": [
        {
          "output_type": "execute_result",
          "data": {
            "text/plain": [
              "(datetime.datetime(2020, 1, 12, 0, 0), datetime.datetime(2020, 4, 29, 0, 0))"
            ]
          },
          "metadata": {
            "tags": []
          },
          "execution_count": 195
        }
      ]
    },
    {
      "cell_type": "code",
      "metadata": {
        "id": "qApqmanxPuaD",
        "colab_type": "code",
        "colab": {}
      },
      "source": [
        "date_series = pd.date_range(start_date, end_date)"
      ],
      "execution_count": 0,
      "outputs": []
    },
    {
      "cell_type": "code",
      "metadata": {
        "id": "Wu3kBkqbQfaf",
        "colab_type": "code",
        "outputId": "98086334-55ce-44cc-c0a1-9738d0033b11",
        "colab": {
          "base_uri": "https://localhost:8080/",
          "height": 151
        }
      },
      "source": [
        "date_series"
      ],
      "execution_count": 0,
      "outputs": [
        {
          "output_type": "execute_result",
          "data": {
            "text/plain": [
              "DatetimeIndex(['2020-01-12', '2020-01-13', '2020-01-14', '2020-01-15',\n",
              "               '2020-01-16', '2020-01-17', '2020-01-18', '2020-01-19',\n",
              "               '2020-01-20', '2020-01-21',\n",
              "               ...\n",
              "               '2020-04-20', '2020-04-21', '2020-04-22', '2020-04-23',\n",
              "               '2020-04-24', '2020-04-25', '2020-04-26', '2020-04-27',\n",
              "               '2020-04-28', '2020-04-29'],\n",
              "              dtype='datetime64[ns]', length=109, freq='D')"
            ]
          },
          "metadata": {
            "tags": []
          },
          "execution_count": 256
        }
      ]
    },
    {
      "cell_type": "code",
      "metadata": {
        "id": "tVDWzPNgR1VV",
        "colab_type": "code",
        "outputId": "bf482657-5bc5-4dae-b355-2473282f26f1",
        "colab": {
          "base_uri": "https://localhost:8080/",
          "height": 402
        }
      },
      "source": [
        "pd_date_df = pd.DataFrame({'date': date_series})\n",
        "pd_date_df"
      ],
      "execution_count": 0,
      "outputs": [
        {
          "output_type": "execute_result",
          "data": {
            "text/html": [
              "<div>\n",
              "<style scoped>\n",
              "    .dataframe tbody tr th:only-of-type {\n",
              "        vertical-align: middle;\n",
              "    }\n",
              "\n",
              "    .dataframe tbody tr th {\n",
              "        vertical-align: top;\n",
              "    }\n",
              "\n",
              "    .dataframe thead th {\n",
              "        text-align: right;\n",
              "    }\n",
              "</style>\n",
              "<table border=\"1\" class=\"dataframe\">\n",
              "  <thead>\n",
              "    <tr style=\"text-align: right;\">\n",
              "      <th></th>\n",
              "      <th>date</th>\n",
              "    </tr>\n",
              "  </thead>\n",
              "  <tbody>\n",
              "    <tr>\n",
              "      <th>0</th>\n",
              "      <td>2020-01-12</td>\n",
              "    </tr>\n",
              "    <tr>\n",
              "      <th>1</th>\n",
              "      <td>2020-01-13</td>\n",
              "    </tr>\n",
              "    <tr>\n",
              "      <th>2</th>\n",
              "      <td>2020-01-14</td>\n",
              "    </tr>\n",
              "    <tr>\n",
              "      <th>3</th>\n",
              "      <td>2020-01-15</td>\n",
              "    </tr>\n",
              "    <tr>\n",
              "      <th>4</th>\n",
              "      <td>2020-01-16</td>\n",
              "    </tr>\n",
              "    <tr>\n",
              "      <th>...</th>\n",
              "      <td>...</td>\n",
              "    </tr>\n",
              "    <tr>\n",
              "      <th>104</th>\n",
              "      <td>2020-04-25</td>\n",
              "    </tr>\n",
              "    <tr>\n",
              "      <th>105</th>\n",
              "      <td>2020-04-26</td>\n",
              "    </tr>\n",
              "    <tr>\n",
              "      <th>106</th>\n",
              "      <td>2020-04-27</td>\n",
              "    </tr>\n",
              "    <tr>\n",
              "      <th>107</th>\n",
              "      <td>2020-04-28</td>\n",
              "    </tr>\n",
              "    <tr>\n",
              "      <th>108</th>\n",
              "      <td>2020-04-29</td>\n",
              "    </tr>\n",
              "  </tbody>\n",
              "</table>\n",
              "<p>109 rows × 1 columns</p>\n",
              "</div>"
            ],
            "text/plain": [
              "          date\n",
              "0   2020-01-12\n",
              "1   2020-01-13\n",
              "2   2020-01-14\n",
              "3   2020-01-15\n",
              "4   2020-01-16\n",
              "..         ...\n",
              "104 2020-04-25\n",
              "105 2020-04-26\n",
              "106 2020-04-27\n",
              "107 2020-04-28\n",
              "108 2020-04-29\n",
              "\n",
              "[109 rows x 1 columns]"
            ]
          },
          "metadata": {
            "tags": []
          },
          "execution_count": 10
        }
      ]
    },
    {
      "cell_type": "markdown",
      "metadata": {
        "id": "Xg_OhP6CffoX",
        "colab_type": "text"
      },
      "source": [
        "ทำให้ Dataframe ของ Pandas เป็น Dataframe ของ Spark"
      ]
    },
    {
      "cell_type": "code",
      "metadata": {
        "id": "2O88m0cFQiyf",
        "colab_type": "code",
        "outputId": "70773b93-018d-489e-8681-a28552a4f8c1",
        "colab": {
          "base_uri": "https://localhost:8080/",
          "height": 454
        }
      },
      "source": [
        "spark_date_df = spark.createDataFrame(pd_date_df)\n",
        "spark_date_df.show()"
      ],
      "execution_count": 0,
      "outputs": [
        {
          "output_type": "stream",
          "text": [
            "+-------------------+\n",
            "|               date|\n",
            "+-------------------+\n",
            "|2020-01-12 00:00:00|\n",
            "|2020-01-13 00:00:00|\n",
            "|2020-01-14 00:00:00|\n",
            "|2020-01-15 00:00:00|\n",
            "|2020-01-16 00:00:00|\n",
            "|2020-01-17 00:00:00|\n",
            "|2020-01-18 00:00:00|\n",
            "|2020-01-19 00:00:00|\n",
            "|2020-01-20 00:00:00|\n",
            "|2020-01-21 00:00:00|\n",
            "|2020-01-22 00:00:00|\n",
            "|2020-01-23 00:00:00|\n",
            "|2020-01-24 00:00:00|\n",
            "|2020-01-25 00:00:00|\n",
            "|2020-01-26 00:00:00|\n",
            "|2020-01-27 00:00:00|\n",
            "|2020-01-28 00:00:00|\n",
            "|2020-01-29 00:00:00|\n",
            "|2020-01-30 00:00:00|\n",
            "|2020-01-31 00:00:00|\n",
            "+-------------------+\n",
            "only showing top 20 rows\n",
            "\n"
          ],
          "name": "stdout"
        }
      ]
    },
    {
      "cell_type": "code",
      "metadata": {
        "id": "xGwwqLWoTfnj",
        "colab_type": "code",
        "outputId": "6f69c0c8-68e3-4154-bce0-4e1dccb5e134",
        "colab": {
          "base_uri": "https://localhost:8080/",
          "height": 34
        }
      },
      "source": [
        "spark_date_df.count()"
      ],
      "execution_count": 0,
      "outputs": [
        {
          "output_type": "execute_result",
          "data": {
            "text/plain": [
              "109"
            ]
          },
          "metadata": {
            "tags": []
          },
          "execution_count": 12
        }
      ]
    },
    {
      "cell_type": "markdown",
      "metadata": {
        "id": "50RebyYEfdlM",
        "colab_type": "text"
      },
      "source": [
        "นำ Dataframe ทั้ง 2 มารวมกันเเล้วให้วันที่เพิ่มมามี count เป็น 0  "
      ]
    },
    {
      "cell_type": "code",
      "metadata": {
        "id": "A8BzvPswT488",
        "colab_type": "code",
        "outputId": "d1da5096-61d4-49f7-933f-ad538ec8d0a4",
        "colab": {
          "base_uri": "https://localhost:8080/",
          "height": 454
        }
      },
      "source": [
        "add_time_df = ordered_df.join(spark_date_df, on='date', how='full').fillna(0).orderBy('date')\n",
        "add_time_df.show()"
      ],
      "execution_count": 0,
      "outputs": [
        {
          "output_type": "stream",
          "text": [
            "+-------------------+-----+\n",
            "|               date|count|\n",
            "+-------------------+-----+\n",
            "|2020-01-12 00:00:00|    1|\n",
            "|2020-01-13 00:00:00|    0|\n",
            "|2020-01-14 00:00:00|    0|\n",
            "|2020-01-15 00:00:00|    0|\n",
            "|2020-01-16 00:00:00|    0|\n",
            "|2020-01-17 00:00:00|    1|\n",
            "|2020-01-18 00:00:00|    0|\n",
            "|2020-01-19 00:00:00|    0|\n",
            "|2020-01-20 00:00:00|    0|\n",
            "|2020-01-21 00:00:00|    0|\n",
            "|2020-01-22 00:00:00|    2|\n",
            "|2020-01-23 00:00:00|    0|\n",
            "|2020-01-24 00:00:00|    1|\n",
            "|2020-01-25 00:00:00|    1|\n",
            "|2020-01-26 00:00:00|    2|\n",
            "|2020-01-27 00:00:00|    0|\n",
            "|2020-01-28 00:00:00|    6|\n",
            "|2020-01-29 00:00:00|    0|\n",
            "|2020-01-30 00:00:00|    0|\n",
            "|2020-01-31 00:00:00|    5|\n",
            "+-------------------+-----+\n",
            "only showing top 20 rows\n",
            "\n"
          ],
          "name": "stdout"
        }
      ]
    },
    {
      "cell_type": "markdown",
      "metadata": {
        "id": "hdRtV5frgBJn",
        "colab_type": "text"
      },
      "source": [
        "นับจำนวนผู้ป่วยโดยรวมกับวันก่อนหน้า"
      ]
    },
    {
      "cell_type": "code",
      "metadata": {
        "id": "UGGtke4plaap",
        "colab_type": "code",
        "colab": {}
      },
      "source": [
        "w = Window.rowsBetween(\n",
        "    Window.unboundedPreceding,\n",
        "    Window.currentRow\n",
        ")"
      ],
      "execution_count": 0,
      "outputs": []
    },
    {
      "cell_type": "code",
      "metadata": {
        "id": "LzhMyOJjgpKb",
        "colab_type": "code",
        "outputId": "0ad0654f-3102-42ac-b667-cddfd7215403",
        "colab": {
          "base_uri": "https://localhost:8080/",
          "height": 454
        }
      },
      "source": [
        "sum_covid19_df = add_time_df.withColumn('sum', fn.sum('count').over(w))\n",
        "sum_covid19_df.show()"
      ],
      "execution_count": 0,
      "outputs": [
        {
          "output_type": "stream",
          "text": [
            "+-------------------+-----+---+\n",
            "|               date|count|sum|\n",
            "+-------------------+-----+---+\n",
            "|2020-01-12 00:00:00|    1|  1|\n",
            "|2020-01-13 00:00:00|    0|  1|\n",
            "|2020-01-14 00:00:00|    0|  1|\n",
            "|2020-01-15 00:00:00|    0|  1|\n",
            "|2020-01-16 00:00:00|    0|  1|\n",
            "|2020-01-17 00:00:00|    1|  2|\n",
            "|2020-01-18 00:00:00|    0|  2|\n",
            "|2020-01-19 00:00:00|    0|  2|\n",
            "|2020-01-20 00:00:00|    0|  2|\n",
            "|2020-01-21 00:00:00|    0|  2|\n",
            "|2020-01-22 00:00:00|    2|  4|\n",
            "|2020-01-23 00:00:00|    0|  4|\n",
            "|2020-01-24 00:00:00|    1|  5|\n",
            "|2020-01-25 00:00:00|    1|  6|\n",
            "|2020-01-26 00:00:00|    2|  8|\n",
            "|2020-01-27 00:00:00|    0|  8|\n",
            "|2020-01-28 00:00:00|    6| 14|\n",
            "|2020-01-29 00:00:00|    0| 14|\n",
            "|2020-01-30 00:00:00|    0| 14|\n",
            "|2020-01-31 00:00:00|    5| 19|\n",
            "+-------------------+-----+---+\n",
            "only showing top 20 rows\n",
            "\n"
          ],
          "name": "stdout"
        }
      ]
    },
    {
      "cell_type": "markdown",
      "metadata": {
        "id": "IPc9h9iEg-Oj",
        "colab_type": "text"
      },
      "source": [
        "สร้าง index"
      ]
    },
    {
      "cell_type": "code",
      "metadata": {
        "id": "eDeDkH9vosSZ",
        "colab_type": "code",
        "outputId": "299ff3d4-932e-404d-cdce-7ac3d479e5ed",
        "colab": {
          "base_uri": "https://localhost:8080/",
          "height": 454
        }
      },
      "source": [
        "index_sum_covid19_df  = sum_covid19_df.withColumn('id', fn.monotonically_increasing_id() + 1)\n",
        "index_sum_covid19_df.show()"
      ],
      "execution_count": 0,
      "outputs": [
        {
          "output_type": "stream",
          "text": [
            "+-------------------+-----+---+---+\n",
            "|               date|count|sum| id|\n",
            "+-------------------+-----+---+---+\n",
            "|2020-01-12 00:00:00|    1|  1|  1|\n",
            "|2020-01-13 00:00:00|    0|  1|  2|\n",
            "|2020-01-14 00:00:00|    0|  1|  3|\n",
            "|2020-01-15 00:00:00|    0|  1|  4|\n",
            "|2020-01-16 00:00:00|    0|  1|  5|\n",
            "|2020-01-17 00:00:00|    1|  2|  6|\n",
            "|2020-01-18 00:00:00|    0|  2|  7|\n",
            "|2020-01-19 00:00:00|    0|  2|  8|\n",
            "|2020-01-20 00:00:00|    0|  2|  9|\n",
            "|2020-01-21 00:00:00|    0|  2| 10|\n",
            "|2020-01-22 00:00:00|    2|  4| 11|\n",
            "|2020-01-23 00:00:00|    0|  4| 12|\n",
            "|2020-01-24 00:00:00|    1|  5| 13|\n",
            "|2020-01-25 00:00:00|    1|  6| 14|\n",
            "|2020-01-26 00:00:00|    2|  8| 15|\n",
            "|2020-01-27 00:00:00|    0|  8| 16|\n",
            "|2020-01-28 00:00:00|    6| 14| 17|\n",
            "|2020-01-29 00:00:00|    0| 14| 18|\n",
            "|2020-01-30 00:00:00|    0| 14| 19|\n",
            "|2020-01-31 00:00:00|    5| 19| 20|\n",
            "+-------------------+-----+---+---+\n",
            "only showing top 20 rows\n",
            "\n"
          ],
          "name": "stdout"
        }
      ]
    },
    {
      "cell_type": "code",
      "metadata": {
        "id": "vL_BFQ_tpag7",
        "colab_type": "code",
        "colab": {}
      },
      "source": [
        "final_df = index_sum_covid19_df.select('id', 'date', 'count', 'sum')"
      ],
      "execution_count": 0,
      "outputs": []
    },
    {
      "cell_type": "markdown",
      "metadata": {
        "id": "V4fx4oQYuY2Q",
        "colab_type": "text"
      },
      "source": [
        "#Final"
      ]
    },
    {
      "cell_type": "code",
      "metadata": {
        "id": "MC_Vd0MCpx14",
        "colab_type": "code",
        "outputId": "e7dc310d-13b9-4996-c25b-3e02596ba103",
        "colab": {
          "base_uri": "https://localhost:8080/",
          "height": 454
        }
      },
      "source": [
        "final_df.show()"
      ],
      "execution_count": 0,
      "outputs": [
        {
          "output_type": "stream",
          "text": [
            "+---+-------------------+-----+---+\n",
            "| id|               date|count|sum|\n",
            "+---+-------------------+-----+---+\n",
            "|  1|2020-01-12 00:00:00|    1|  1|\n",
            "|  2|2020-01-13 00:00:00|    0|  1|\n",
            "|  3|2020-01-14 00:00:00|    0|  1|\n",
            "|  4|2020-01-15 00:00:00|    0|  1|\n",
            "|  5|2020-01-16 00:00:00|    0|  1|\n",
            "|  6|2020-01-17 00:00:00|    1|  2|\n",
            "|  7|2020-01-18 00:00:00|    0|  2|\n",
            "|  8|2020-01-19 00:00:00|    0|  2|\n",
            "|  9|2020-01-20 00:00:00|    0|  2|\n",
            "| 10|2020-01-21 00:00:00|    0|  2|\n",
            "| 11|2020-01-22 00:00:00|    2|  4|\n",
            "| 12|2020-01-23 00:00:00|    0|  4|\n",
            "| 13|2020-01-24 00:00:00|    1|  5|\n",
            "| 14|2020-01-25 00:00:00|    1|  6|\n",
            "| 15|2020-01-26 00:00:00|    2|  8|\n",
            "| 16|2020-01-27 00:00:00|    0|  8|\n",
            "| 17|2020-01-28 00:00:00|    6| 14|\n",
            "| 18|2020-01-29 00:00:00|    0| 14|\n",
            "| 19|2020-01-30 00:00:00|    0| 14|\n",
            "| 20|2020-01-31 00:00:00|    5| 19|\n",
            "+---+-------------------+-----+---+\n",
            "only showing top 20 rows\n",
            "\n"
          ],
          "name": "stdout"
        }
      ]
    },
    {
      "cell_type": "code",
      "metadata": {
        "id": "6I1qVrwYpzLh",
        "colab_type": "code",
        "outputId": "1fc83c3a-e404-47b7-942a-f400d31e6857",
        "colab": {
          "base_uri": "https://localhost:8080/",
          "height": 454
        }
      },
      "source": [
        "final_df.orderBy(fn.col('Id').desc()).show()"
      ],
      "execution_count": 0,
      "outputs": [
        {
          "output_type": "stream",
          "text": [
            "+---+-------------------+-----+----+\n",
            "| id|               date|count| sum|\n",
            "+---+-------------------+-----+----+\n",
            "|109|2020-04-29 00:00:00|    9|2947|\n",
            "|108|2020-04-28 00:00:00|    7|2938|\n",
            "|107|2020-04-27 00:00:00|    9|2931|\n",
            "|106|2020-04-26 00:00:00|   15|2922|\n",
            "|105|2020-04-25 00:00:00|   53|2907|\n",
            "|104|2020-04-24 00:00:00|   15|2854|\n",
            "|103|2020-04-23 00:00:00|   13|2839|\n",
            "|102|2020-04-22 00:00:00|   15|2826|\n",
            "|101|2020-04-21 00:00:00|   19|2811|\n",
            "|100|2020-04-20 00:00:00|   27|2792|\n",
            "| 99|2020-04-19 00:00:00|   32|2765|\n",
            "| 98|2020-04-18 00:00:00|   33|2733|\n",
            "| 97|2020-04-17 00:00:00|   28|2700|\n",
            "| 96|2020-04-16 00:00:00|   29|2672|\n",
            "| 95|2020-04-15 00:00:00|   30|2643|\n",
            "| 94|2020-04-14 00:00:00|   34|2613|\n",
            "| 93|2020-04-13 00:00:00|   28|2579|\n",
            "| 92|2020-04-12 00:00:00|   33|2551|\n",
            "| 91|2020-04-11 00:00:00|   45|2518|\n",
            "| 90|2020-04-10 00:00:00|   50|2473|\n",
            "+---+-------------------+-----+----+\n",
            "only showing top 20 rows\n",
            "\n"
          ],
          "name": "stdout"
        }
      ]
    },
    {
      "cell_type": "markdown",
      "metadata": {
        "id": "TlBJ981LuipJ",
        "colab_type": "text"
      },
      "source": [
        "#Load to BigQuery\n"
      ]
    },
    {
      "cell_type": "code",
      "metadata": {
        "id": "KK8DteJcp_T7",
        "colab_type": "code",
        "colab": {}
      },
      "source": [
        "final_df.coalesce(1).write.csv('./THCovid19_sum.csv', header=True)"
      ],
      "execution_count": 0,
      "outputs": []
    },
    {
      "cell_type": "code",
      "metadata": {
        "id": "BaQZJzFOONRO",
        "colab_type": "code",
        "colab": {}
      },
      "source": [
        "! gcloud auth login"
      ],
      "execution_count": 0,
      "outputs": []
    },
    {
      "cell_type": "code",
      "metadata": {
        "id": "EQNwvomAOXbl",
        "colab_type": "code",
        "outputId": "e540b437-78fd-4e2b-aa4f-bca7560ec370",
        "colab": {
          "base_uri": "https://localhost:8080/",
          "height": 34
        }
      },
      "source": [
        "! gcloud config set project cobalt-bond-272904"
      ],
      "execution_count": 0,
      "outputs": [
        {
          "output_type": "stream",
          "text": [
            "Updated property [core/project].\n"
          ],
          "name": "stdout"
        }
      ]
    },
    {
      "cell_type": "code",
      "metadata": {
        "id": "ARVsS7F6OiFD",
        "colab_type": "code",
        "outputId": "2f03bef2-b9d9-4e66-9ea7-459f910513a5",
        "colab": {
          "base_uri": "https://localhost:8080/",
          "height": 67
        }
      },
      "source": [
        "! gsutil cp ./THCovid19_sum.csv/part-00000-c98aae8c-a3ed-477e-ae94-8ee343ca66ed-c000.csv gs://thanavi_project_data"
      ],
      "execution_count": 0,
      "outputs": [
        {
          "output_type": "stream",
          "text": [
            "Copying file://./THCovid19_sum.csv/part-00000-c98aae8c-a3ed-477e-ae94-8ee343ca66ed-c000.csv [Content-Type=text/csv]...\n",
            "/ [1 files][  3.7 KiB/  3.7 KiB]                                                \n",
            "Operation completed over 1 objects/3.7 KiB.                                      \n"
          ],
          "name": "stdout"
        }
      ]
    },
    {
      "cell_type": "code",
      "metadata": {
        "id": "Jlunb-P4OxGY",
        "colab_type": "code",
        "outputId": "e520b178-c842-4b55-db33-3982d62e2fed",
        "colab": {
          "base_uri": "https://localhost:8080/",
          "height": 84
        }
      },
      "source": [
        "! gsutil mv gs://thanavi_project_data/part-00000-c98aae8c-a3ed-477e-ae94-8ee343ca66ed-c000.csv gs://thanavi_project_data/THCovid19_sum.csv"
      ],
      "execution_count": 0,
      "outputs": [
        {
          "output_type": "stream",
          "text": [
            "Copying gs://thanavi_project_data/part-00000-c98aae8c-a3ed-477e-ae94-8ee343ca66ed-c000.csv [Content-Type=text/csv]...\n",
            "/ [0 files][    0.0 B/  3.7 KiB]                                                \r/ [1 files][  3.7 KiB/  3.7 KiB]                                                \rRemoving gs://thanavi_project_data/part-00000-c98aae8c-a3ed-477e-ae94-8ee343ca66ed-c000.csv...\n",
            "\n",
            "Operation completed over 1 objects/3.7 KiB.                                      \n"
          ],
          "name": "stdout"
        }
      ]
    },
    {
      "cell_type": "code",
      "metadata": {
        "id": "yVj01LylPAyv",
        "colab_type": "code",
        "outputId": "1a2098b9-42fb-41f3-c9b0-9b49b179d4e0",
        "colab": {
          "base_uri": "https://localhost:8080/",
          "height": 50
        }
      },
      "source": [
        "! gsutil ls gs://thanavi_project_data"
      ],
      "execution_count": 0,
      "outputs": [
        {
          "output_type": "stream",
          "text": [
            "gs://thanavi_project_data/THCovid19_Data.csv\n",
            "gs://thanavi_project_data/THCovid19_sum.csv\n"
          ],
          "name": "stdout"
        }
      ]
    },
    {
      "cell_type": "code",
      "metadata": {
        "id": "zJmk70CwPD9i",
        "colab_type": "code",
        "outputId": "ad029f7d-f233-4cb5-89f0-9561ae78152f",
        "colab": {
          "base_uri": "https://localhost:8080/",
          "height": 454
        }
      },
      "source": [
        "! bq ls"
      ],
      "execution_count": 0,
      "outputs": [
        {
          "output_type": "stream",
          "text": [
            "\n",
            "Welcome to BigQuery! This script will walk you through the \n",
            "process of initializing your .bigqueryrc configuration file.\n",
            "\n",
            "First, we need to set up your credentials if they do not \n",
            "already exist.\n",
            "\n",
            "Credential creation complete. Now we will select a default project.\n",
            "\n",
            "List of projects:\n",
            "  #       projectId          friendlyName    \n",
            " --- -------------------- ------------------ \n",
            "  1   cobalt-bond-272904   My First Project  \n",
            "  2   r2de-275802          R2DE              \n",
            "Found multiple projects. Please enter a selection for \n",
            "which should be the default, or leave blank to not \n",
            "set a default.\n",
            "\n",
            "Enter a selection (1 - 2): 1\n",
            "\n",
            "BigQuery configuration complete! Type \"bq\" to get started.\n",
            "\n",
            "     datasetId     \n",
            " ----------------- \n",
            "  Starbuck_Stores  \n",
            "  covid19          \n"
          ],
          "name": "stdout"
        }
      ]
    },
    {
      "cell_type": "code",
      "metadata": {
        "id": "AfYLvmirPJdP",
        "colab_type": "code",
        "outputId": "94bf29bf-02ef-4a98-c959-6115ec850f5b",
        "colab": {
          "base_uri": "https://localhost:8080/",
          "height": 34
        }
      },
      "source": [
        "! bq load --autodetect covid19.THCovid19_Sum gs://thanavi_project_data/THCovid19_sum.csv"
      ],
      "execution_count": 0,
      "outputs": [
        {
          "output_type": "stream",
          "text": [
            "Waiting on bqjob_r795e5a5f8e4512d1_00000171da44777f_1 ... (3s) Current status: DONE   \n"
          ],
          "name": "stdout"
        }
      ]
    },
    {
      "cell_type": "code",
      "metadata": {
        "id": "dTR3vo73PQRZ",
        "colab_type": "code",
        "outputId": "97f13eb4-9618-49b0-d91d-c5681bccb889",
        "colab": {
          "base_uri": "https://localhost:8080/",
          "height": 252
        }
      },
      "source": [
        "! bq head -n 10 covid19.THCovid19_Sum"
      ],
      "execution_count": 0,
      "outputs": [
        {
          "output_type": "stream",
          "text": [
            "+----+---------------------+-------+-----+\n",
            "| id |        date         | count | sum |\n",
            "+----+---------------------+-------+-----+\n",
            "|  2 | 2020-01-13 00:00:00 |     0 |   1 |\n",
            "|  3 | 2020-01-14 00:00:00 |     0 |   1 |\n",
            "|  4 | 2020-01-15 00:00:00 |     0 |   1 |\n",
            "|  5 | 2020-01-16 00:00:00 |     0 |   1 |\n",
            "|  7 | 2020-01-18 00:00:00 |     0 |   2 |\n",
            "|  8 | 2020-01-19 00:00:00 |     0 |   2 |\n",
            "|  9 | 2020-01-20 00:00:00 |     0 |   2 |\n",
            "| 10 | 2020-01-21 00:00:00 |     0 |   2 |\n",
            "| 12 | 2020-01-23 00:00:00 |     0 |   4 |\n",
            "| 16 | 2020-01-27 00:00:00 |     0 |   8 |\n",
            "+----+---------------------+-------+-----+\n"
          ],
          "name": "stdout"
        }
      ]
    },
    {
      "cell_type": "code",
      "metadata": {
        "id": "ajI-0pr6PVX3",
        "colab_type": "code",
        "outputId": "4b30bf46-52eb-4d8e-82a0-e8a1d6d29bda",
        "colab": {
          "base_uri": "https://localhost:8080/",
          "height": 823
        }
      },
      "source": [
        "! bq help head"
      ],
      "execution_count": 0,
      "outputs": [
        {
          "output_type": "stream",
          "text": [
            "Python script for interacting with BigQuery.\n",
            "\n",
            "\n",
            "USAGE: bq.py [--global_flags] <command> [--command_flags] [args]\n",
            "\n",
            "\n",
            "head            Displays rows in a table.\n",
            "\n",
            "                Examples:\n",
            "                bq head dataset.table\n",
            "                bq head -j job\n",
            "                bq head -n 10 dataset.table\n",
            "                bq head -s 5 -n 10 dataset.table\n",
            "\n",
            "                Flags for head:\n",
            "\n",
            "                  /tools/google-cloud-sdk/platform/bq/bq.py:\n",
            "                    -j,--[no]job: Reads the results of a query job.\n",
            "                      (default: 'false')\n",
            "                    -n,--max_rows: The number of rows to print when showing\n",
            "                      table data.\n",
            "                      (default: '100')\n",
            "                      (an integer)\n",
            "                    -c,--selected_fields: A subset of fields (including nested\n",
            "                      fields) to return when showing table data. If not\n",
            "                      specified, full row will be retrieved. For example,\n",
            "                      \"-c:a,b\".\n",
            "                    -s,--start_row: The number of rows to skip before showing\n",
            "                      table data.\n",
            "                      (default: '0')\n",
            "                      (an integer)\n",
            "                    -t,--[no]table: Reads rows from a table.\n",
            "                      (default: 'false')\n",
            "\n",
            "                  absl.flags:\n",
            "                    --flagfile: Insert flag definitions from the given file into\n",
            "                      the command line.\n",
            "                      (default: '')\n",
            "                    --undefok: comma-separated list of flag names that it is\n",
            "                      okay to specify on the command line even if the program\n",
            "                      does not define a flag with that name.  IMPORTANT: flags\n",
            "                      in this list that have arguments MUST use the --flag=value\n",
            "                      format.\n",
            "                      (default: '')\n",
            "\n",
            "\n",
            "Run 'bq.py --help' to get help for global flags.\n",
            "Run 'bq.py help' to see the list of available commands.\n"
          ],
          "name": "stdout"
        }
      ]
    },
    {
      "cell_type": "code",
      "metadata": {
        "id": "jKFFyYx7R2G8",
        "colab_type": "code",
        "colab": {}
      },
      "source": [
        ""
      ],
      "execution_count": 0,
      "outputs": []
    }
  ]
}